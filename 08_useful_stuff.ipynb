{
  "nbformat": 4,
  "nbformat_minor": 0,
  "metadata": {
    "colab": {
      "name": "08-useful-stuff.ipynb",
      "provenance": [],
      "collapsed_sections": [],
      "authorship_tag": "ABX9TyMvYpVEqN1bFg1tlSVoWhOv",
      "include_colab_link": true
    },
    "kernelspec": {
      "name": "python3",
      "display_name": "Python 3"
    },
    "language_info": {
      "name": "python"
    }
  },
  "cells": [
    {
      "cell_type": "markdown",
      "metadata": {
        "id": "view-in-github",
        "colab_type": "text"
      },
      "source": [
        "<a href=\"https://colab.research.google.com/github/glebmikha/ds-course/blob/main/08_useful_stuff.ipynb\" target=\"_parent\"><img src=\"https://colab.research.google.com/assets/colab-badge.svg\" alt=\"Open In Colab\"/></a>"
      ]
    },
    {
      "cell_type": "markdown",
      "source": [
        "Мой Telegram-канал: https://t.me/mikhaylovgleb"
      ],
      "metadata": {
        "id": "Obo3n_pJQG1V"
      }
    },
    {
      "cell_type": "markdown",
      "source": [
        "# Загрузка данных"
      ],
      "metadata": {
        "id": "jE8fAP7i53Q8"
      }
    },
    {
      "cell_type": "markdown",
      "source": [
        "https://www.kaggle.com/shubh0799/churn-modelling"
      ],
      "metadata": {
        "id": "sISmOvP27OZ-"
      }
    },
    {
      "cell_type": "markdown",
      "source": [
        "https://drive.google.com/file/d/1Ym8EaWePP17RvrweKhWzCJmITXLgqvCZ/view?usp=sharing"
      ],
      "metadata": {
        "id": "1QkJiyFc3dgc"
      }
    },
    {
      "cell_type": "code",
      "source": [
        "! gdown --id 1Ym8EaWePP17RvrweKhWzCJmITXLgqvCZ"
      ],
      "metadata": {
        "colab": {
          "base_uri": "https://localhost:8080/"
        },
        "id": "_YfuREP97R6r",
        "outputId": "48ac3357-255d-408c-a701-b49144c9ad08"
      },
      "execution_count": 1,
      "outputs": [
        {
          "output_type": "stream",
          "name": "stdout",
          "text": [
            "Downloading...\n",
            "From: https://drive.google.com/uc?id=1Ym8EaWePP17RvrweKhWzCJmITXLgqvCZ\n",
            "To: /content/churn-modeling.zip\n",
            "\r  0% 0.00/268k [00:00<?, ?B/s]\r100% 268k/268k [00:00<00:00, 71.8MB/s]\n"
          ]
        }
      ]
    },
    {
      "cell_type": "code",
      "source": [
        "import pandas as pd"
      ],
      "metadata": {
        "id": "ewe-YpH67URl"
      },
      "execution_count": 2,
      "outputs": []
    },
    {
      "cell_type": "code",
      "source": [
        "df = pd.read_csv('/content/churn-modeling.zip')"
      ],
      "metadata": {
        "id": "gepq9rRm7XMg"
      },
      "execution_count": 3,
      "outputs": []
    },
    {
      "cell_type": "markdown",
      "source": [
        "# Обучающая, валидационная и тестовая выборка"
      ],
      "metadata": {
        "id": "gom7iivspMTY"
      }
    },
    {
      "cell_type": "code",
      "execution_count": 4,
      "metadata": {
        "id": "ZVKWDXi7nCzX"
      },
      "outputs": [],
      "source": [
        "from sklearn.model_selection import train_test_split"
      ]
    },
    {
      "cell_type": "code",
      "execution_count": 5,
      "metadata": {
        "id": "dqPPX1HOqROI"
      },
      "outputs": [],
      "source": [
        "train, test = train_test_split(df,train_size=0.6,random_state=42,stratify=df['Exited'])"
      ]
    },
    {
      "cell_type": "code",
      "execution_count": 6,
      "metadata": {
        "id": "qJMAgflu-L7X"
      },
      "outputs": [],
      "source": [
        "val, test = train_test_split(test,train_size=0.5,random_state=42,stratify=test['Exited'])"
      ]
    },
    {
      "cell_type": "markdown",
      "source": [
        "# Обучение модели"
      ],
      "metadata": {
        "id": "jFrZkuRqhZ4E"
      }
    },
    {
      "cell_type": "code",
      "source": [
        "! pip install catboost"
      ],
      "metadata": {
        "colab": {
          "base_uri": "https://localhost:8080/"
        },
        "id": "oh99cs-8rPpL",
        "outputId": "a3e65c49-0d60-45b9-c616-c5957067960f"
      },
      "execution_count": 7,
      "outputs": [
        {
          "output_type": "stream",
          "name": "stdout",
          "text": [
            "Collecting catboost\n",
            "  Downloading catboost-1.0.4-cp37-none-manylinux1_x86_64.whl (76.1 MB)\n",
            "\u001b[K     |████████████████████████████████| 76.1 MB 1.4 MB/s \n",
            "\u001b[?25hRequirement already satisfied: graphviz in /usr/local/lib/python3.7/dist-packages (from catboost) (0.10.1)\n",
            "Requirement already satisfied: scipy in /usr/local/lib/python3.7/dist-packages (from catboost) (1.4.1)\n",
            "Requirement already satisfied: numpy>=1.16.0 in /usr/local/lib/python3.7/dist-packages (from catboost) (1.21.5)\n",
            "Requirement already satisfied: pandas>=0.24.0 in /usr/local/lib/python3.7/dist-packages (from catboost) (1.3.5)\n",
            "Requirement already satisfied: matplotlib in /usr/local/lib/python3.7/dist-packages (from catboost) (3.2.2)\n",
            "Requirement already satisfied: plotly in /usr/local/lib/python3.7/dist-packages (from catboost) (5.5.0)\n",
            "Requirement already satisfied: six in /usr/local/lib/python3.7/dist-packages (from catboost) (1.15.0)\n",
            "Requirement already satisfied: python-dateutil>=2.7.3 in /usr/local/lib/python3.7/dist-packages (from pandas>=0.24.0->catboost) (2.8.2)\n",
            "Requirement already satisfied: pytz>=2017.3 in /usr/local/lib/python3.7/dist-packages (from pandas>=0.24.0->catboost) (2018.9)\n",
            "Requirement already satisfied: pyparsing!=2.0.4,!=2.1.2,!=2.1.6,>=2.0.1 in /usr/local/lib/python3.7/dist-packages (from matplotlib->catboost) (3.0.7)\n",
            "Requirement already satisfied: kiwisolver>=1.0.1 in /usr/local/lib/python3.7/dist-packages (from matplotlib->catboost) (1.3.2)\n",
            "Requirement already satisfied: cycler>=0.10 in /usr/local/lib/python3.7/dist-packages (from matplotlib->catboost) (0.11.0)\n",
            "Requirement already satisfied: tenacity>=6.2.0 in /usr/local/lib/python3.7/dist-packages (from plotly->catboost) (8.0.1)\n",
            "Installing collected packages: catboost\n",
            "Successfully installed catboost-1.0.4\n"
          ]
        }
      ]
    },
    {
      "cell_type": "code",
      "source": [
        "from catboost import CatBoostClassifier"
      ],
      "metadata": {
        "id": "ud0l7hiSrkbQ"
      },
      "execution_count": 8,
      "outputs": []
    },
    {
      "cell_type": "code",
      "source": [
        "X = ['CustomerId', 'CreditScore', 'Geography',\n",
        "       'Gender', 'Age', 'Tenure', 'Balance', 'NumOfProducts', 'HasCrCard',\n",
        "       'IsActiveMember', 'EstimatedSalary']\n",
        "\n",
        "cat_features = ['Geography','Gender']\n",
        "\n",
        "y = ['Exited']"
      ],
      "metadata": {
        "id": "iGUEYDL_ygh_"
      },
      "execution_count": 9,
      "outputs": []
    },
    {
      "cell_type": "code",
      "source": [
        "from catboost import Pool\n",
        "\n",
        "train_data = Pool(data=train[X],\n",
        "                  label=train[y],\n",
        "                  cat_features=cat_features\n",
        "                 )\n",
        "\n",
        "valid_data = Pool(data=val[X],\n",
        "                  label=val[y],\n",
        "                  cat_features=cat_features\n",
        "                 )\n",
        "\n",
        "test_data = Pool(data=test[X],\n",
        "                  label=test[y],\n",
        "                  cat_features=cat_features\n",
        "                 )"
      ],
      "metadata": {
        "id": "0lBBzmXgzMeH"
      },
      "execution_count": 10,
      "outputs": []
    },
    {
      "cell_type": "code",
      "source": [
        "params = {'verbose':100,\n",
        "          'eval_metric':'AUC',\n",
        "          'loss_function': 'Logloss',\n",
        "          'random_seed':42,\n",
        "          'learning_rate':0.01}"
      ],
      "metadata": {
        "id": "ehYMitt2zPdZ"
      },
      "execution_count": 11,
      "outputs": []
    },
    {
      "cell_type": "code",
      "source": [
        "model = CatBoostClassifier(**params)"
      ],
      "metadata": {
        "id": "y0yJ1BeWzPda"
      },
      "execution_count": 12,
      "outputs": []
    },
    {
      "cell_type": "code",
      "source": [
        "model.fit(train_data,eval_set=valid_data)"
      ],
      "metadata": {
        "colab": {
          "base_uri": "https://localhost:8080/"
        },
        "id": "XmpcnphbzWHj",
        "outputId": "449c80a8-5d80-47cf-98a8-e7e8d977146a"
      },
      "execution_count": 13,
      "outputs": [
        {
          "output_type": "stream",
          "name": "stdout",
          "text": [
            "0:\ttest: 0.8338545\tbest: 0.8338545 (0)\ttotal: 72.8ms\tremaining: 1m 12s\n",
            "100:\ttest: 0.8725090\tbest: 0.8725090 (100)\ttotal: 1.56s\tremaining: 13.9s\n",
            "200:\ttest: 0.8784656\tbest: 0.8784656 (200)\ttotal: 2.34s\tremaining: 9.31s\n",
            "300:\ttest: 0.8812676\tbest: 0.8812676 (300)\ttotal: 3.13s\tremaining: 7.27s\n",
            "400:\ttest: 0.8823868\tbest: 0.8824376 (390)\ttotal: 4.1s\tremaining: 6.13s\n",
            "500:\ttest: 0.8834491\tbest: 0.8834522 (498)\ttotal: 4.9s\tremaining: 4.88s\n",
            "600:\ttest: 0.8834737\tbest: 0.8836554 (564)\ttotal: 5.71s\tremaining: 3.79s\n",
            "700:\ttest: 0.8837847\tbest: 0.8838694 (685)\ttotal: 6.48s\tremaining: 2.76s\n",
            "800:\ttest: 0.8834383\tbest: 0.8838694 (685)\ttotal: 7.25s\tremaining: 1.8s\n",
            "900:\ttest: 0.8829318\tbest: 0.8838694 (685)\ttotal: 8.09s\tremaining: 888ms\n",
            "999:\ttest: 0.8822744\tbest: 0.8838694 (685)\ttotal: 9.95s\tremaining: 0us\n",
            "\n",
            "bestTest = 0.8838694083\n",
            "bestIteration = 685\n",
            "\n",
            "Shrink model to first 686 iterations.\n"
          ]
        },
        {
          "output_type": "execute_result",
          "data": {
            "text/plain": [
              "<catboost.core.CatBoostClassifier at 0x7fee1545d290>"
            ]
          },
          "metadata": {},
          "execution_count": 13
        }
      ]
    },
    {
      "cell_type": "code",
      "source": [
        "n_iters = model.best_iteration_ + 1"
      ],
      "metadata": {
        "id": "ORFx77b_Clrr"
      },
      "execution_count": 14,
      "outputs": []
    },
    {
      "cell_type": "code",
      "source": [
        "n_iters"
      ],
      "metadata": {
        "colab": {
          "base_uri": "https://localhost:8080/"
        },
        "id": "7w5-2vglFYc_",
        "outputId": "8ce5d094-edf9-4248-fbc4-ddee868c86aa"
      },
      "execution_count": 15,
      "outputs": [
        {
          "output_type": "execute_result",
          "data": {
            "text/plain": [
              "686"
            ]
          },
          "metadata": {},
          "execution_count": 15
        }
      ]
    },
    {
      "cell_type": "code",
      "source": [
        "params = {'iterations':n_iters,\n",
        "          'verbose':100,\n",
        "          'eval_metric':'AUC',\n",
        "          'loss_function': 'Logloss',\n",
        "          'random_seed':42,\n",
        "          'learning_rate':0.01}"
      ],
      "metadata": {
        "id": "7lyOHQPLCc1W"
      },
      "execution_count": 16,
      "outputs": []
    },
    {
      "cell_type": "code",
      "source": [
        "model = CatBoostClassifier(**params)"
      ],
      "metadata": {
        "id": "0Oc62T-4Cc1X"
      },
      "execution_count": 17,
      "outputs": []
    },
    {
      "cell_type": "code",
      "source": [
        "train_full = pd.concat([train,val])"
      ],
      "metadata": {
        "id": "0pyqJthrCY8t"
      },
      "execution_count": 18,
      "outputs": []
    },
    {
      "cell_type": "code",
      "source": [
        "train_full_data = Pool(train_full[X],\n",
        "                       label=train_full[y],\n",
        "                       cat_features=cat_features)"
      ],
      "metadata": {
        "id": "XlmGi-QqCY8u"
      },
      "execution_count": 19,
      "outputs": []
    },
    {
      "cell_type": "code",
      "source": [
        "model.fit(train_full_data)"
      ],
      "metadata": {
        "colab": {
          "base_uri": "https://localhost:8080/"
        },
        "outputId": "5ea19bda-122d-42b9-84e1-0d575692946a",
        "id": "xgFdKlK3Cc1X"
      },
      "execution_count": 20,
      "outputs": [
        {
          "output_type": "stream",
          "name": "stdout",
          "text": [
            "0:\ttotal: 47.3ms\tremaining: 32.4s\n",
            "100:\ttotal: 1.71s\tremaining: 9.9s\n",
            "200:\ttotal: 2.68s\tremaining: 6.47s\n",
            "300:\ttotal: 3.67s\tremaining: 4.7s\n",
            "400:\ttotal: 5.19s\tremaining: 3.69s\n",
            "500:\ttotal: 7.2s\tremaining: 2.66s\n",
            "600:\ttotal: 9.41s\tremaining: 1.33s\n",
            "685:\ttotal: 11.4s\tremaining: 0us\n"
          ]
        },
        {
          "output_type": "execute_result",
          "data": {
            "text/plain": [
              "<catboost.core.CatBoostClassifier at 0x7fee153ea1d0>"
            ]
          },
          "metadata": {},
          "execution_count": 20
        }
      ]
    },
    {
      "cell_type": "code",
      "source": [
        "test['y_score_no_cross_val'] = model.predict_proba(test_data)[:,1]"
      ],
      "metadata": {
        "id": "_dGUxN6hC1t7"
      },
      "execution_count": 21,
      "outputs": []
    },
    {
      "cell_type": "code",
      "source": [
        "from sklearn.metrics import roc_auc_score"
      ],
      "metadata": {
        "id": "2A93J9OTCzKR"
      },
      "execution_count": 22,
      "outputs": []
    },
    {
      "cell_type": "code",
      "source": [
        "roc_auc_score(test['Exited'],test['y_score_no_cross_val'])"
      ],
      "metadata": {
        "colab": {
          "base_uri": "https://localhost:8080/"
        },
        "id": "CFK-2mAWDuuI",
        "outputId": "1a9b9f3f-59c3-4626-f5c8-bc18d3acc518"
      },
      "execution_count": 23,
      "outputs": [
        {
          "output_type": "execute_result",
          "data": {
            "text/plain": [
              "0.8735839074822127"
            ]
          },
          "metadata": {},
          "execution_count": 23
        }
      ]
    },
    {
      "cell_type": "markdown",
      "source": [
        "# Кросс-валидация"
      ],
      "metadata": {
        "id": "l9Gbl5sLwt-1"
      }
    },
    {
      "cell_type": "markdown",
      "source": [
        "https://github.com/catboost/tutorials/blob/master/classification/classification_tutorial.ipynb"
      ],
      "metadata": {
        "id": "IxAIXNq5xqjU"
      }
    },
    {
      "cell_type": "code",
      "source": [
        "from catboost import cv"
      ],
      "metadata": {
        "id": "oG2uITTLs6yU"
      },
      "execution_count": 24,
      "outputs": []
    },
    {
      "cell_type": "code",
      "source": [
        "params = {'verbose':100,\n",
        "          'eval_metric':'AUC',\n",
        "          'loss_function': 'Logloss',\n",
        "          'random_seed':42,\n",
        "          'learning_rate':0.01}"
      ],
      "metadata": {
        "id": "Ei7lX4FaFs21"
      },
      "execution_count": 25,
      "outputs": []
    },
    {
      "cell_type": "code",
      "source": [
        "cv_data = cv(\n",
        "    params = params,\n",
        "    pool = train_full_data,\n",
        "    fold_count=5,\n",
        "    shuffle=True,\n",
        "    partition_random_seed=0,\n",
        "    stratified=False,\n",
        "    verbose=False\n",
        ")"
      ],
      "metadata": {
        "colab": {
          "base_uri": "https://localhost:8080/"
        },
        "id": "aCVREuG3tDXa",
        "outputId": "cad0f471-dd5c-4a22-8af5-3d3bd540ed5b"
      },
      "execution_count": 26,
      "outputs": [
        {
          "output_type": "stream",
          "name": "stdout",
          "text": [
            "Training on fold [0/5]\n",
            "\n",
            "bestTest = 0.866360207\n",
            "bestIteration = 881\n",
            "\n",
            "Training on fold [1/5]\n",
            "\n",
            "bestTest = 0.8716621864\n",
            "bestIteration = 998\n",
            "\n",
            "Training on fold [2/5]\n",
            "\n",
            "bestTest = 0.8695412245\n",
            "bestIteration = 540\n",
            "\n",
            "Training on fold [3/5]\n",
            "\n",
            "bestTest = 0.8795945701\n",
            "bestIteration = 942\n",
            "\n",
            "Training on fold [4/5]\n",
            "\n",
            "bestTest = 0.8586794872\n",
            "bestIteration = 750\n",
            "\n"
          ]
        }
      ]
    },
    {
      "cell_type": "code",
      "source": [
        "cv_data"
      ],
      "metadata": {
        "colab": {
          "base_uri": "https://localhost:8080/",
          "height": 485
        },
        "id": "N98d1OO0GMw8",
        "outputId": "af641bea-fb67-40ac-f06d-5d07ec2473b7"
      },
      "execution_count": 27,
      "outputs": [
        {
          "output_type": "execute_result",
          "data": {
            "text/plain": [
              "     iterations  test-AUC-mean  test-AUC-std  test-Logloss-mean  \\\n",
              "0             0       0.818479      0.009480           0.685020   \n",
              "1             1       0.823848      0.010334           0.677216   \n",
              "2             2       0.831819      0.009265           0.668989   \n",
              "3             3       0.834559      0.008771           0.662008   \n",
              "4             4       0.834483      0.008218           0.654599   \n",
              "..          ...            ...           ...                ...   \n",
              "995         995       0.868703      0.007809           0.329986   \n",
              "996         996       0.868715      0.007781           0.329972   \n",
              "997         997       0.868718      0.007804           0.329972   \n",
              "998         998       0.868725      0.007777           0.329969   \n",
              "999         999       0.868729      0.007779           0.329964   \n",
              "\n",
              "     test-Logloss-std  train-Logloss-mean  train-Logloss-std  \n",
              "0            0.000209            0.684939           0.000262  \n",
              "1            0.000374            0.677055           0.000503  \n",
              "2            0.000472            0.668799           0.000751  \n",
              "3            0.001326            0.661753           0.000689  \n",
              "4            0.001429            0.654270           0.000898  \n",
              "..                ...                 ...                ...  \n",
              "995          0.016873            0.284097           0.003644  \n",
              "996          0.016875            0.284057           0.003631  \n",
              "997          0.016876            0.284003           0.003636  \n",
              "998          0.016855            0.283943           0.003613  \n",
              "999          0.016869            0.283886           0.003601  \n",
              "\n",
              "[1000 rows x 7 columns]"
            ],
            "text/html": [
              "\n",
              "  <div id=\"df-ac78c5aa-9387-418a-a09b-a3a0f10c81d5\">\n",
              "    <div class=\"colab-df-container\">\n",
              "      <div>\n",
              "<style scoped>\n",
              "    .dataframe tbody tr th:only-of-type {\n",
              "        vertical-align: middle;\n",
              "    }\n",
              "\n",
              "    .dataframe tbody tr th {\n",
              "        vertical-align: top;\n",
              "    }\n",
              "\n",
              "    .dataframe thead th {\n",
              "        text-align: right;\n",
              "    }\n",
              "</style>\n",
              "<table border=\"1\" class=\"dataframe\">\n",
              "  <thead>\n",
              "    <tr style=\"text-align: right;\">\n",
              "      <th></th>\n",
              "      <th>iterations</th>\n",
              "      <th>test-AUC-mean</th>\n",
              "      <th>test-AUC-std</th>\n",
              "      <th>test-Logloss-mean</th>\n",
              "      <th>test-Logloss-std</th>\n",
              "      <th>train-Logloss-mean</th>\n",
              "      <th>train-Logloss-std</th>\n",
              "    </tr>\n",
              "  </thead>\n",
              "  <tbody>\n",
              "    <tr>\n",
              "      <th>0</th>\n",
              "      <td>0</td>\n",
              "      <td>0.818479</td>\n",
              "      <td>0.009480</td>\n",
              "      <td>0.685020</td>\n",
              "      <td>0.000209</td>\n",
              "      <td>0.684939</td>\n",
              "      <td>0.000262</td>\n",
              "    </tr>\n",
              "    <tr>\n",
              "      <th>1</th>\n",
              "      <td>1</td>\n",
              "      <td>0.823848</td>\n",
              "      <td>0.010334</td>\n",
              "      <td>0.677216</td>\n",
              "      <td>0.000374</td>\n",
              "      <td>0.677055</td>\n",
              "      <td>0.000503</td>\n",
              "    </tr>\n",
              "    <tr>\n",
              "      <th>2</th>\n",
              "      <td>2</td>\n",
              "      <td>0.831819</td>\n",
              "      <td>0.009265</td>\n",
              "      <td>0.668989</td>\n",
              "      <td>0.000472</td>\n",
              "      <td>0.668799</td>\n",
              "      <td>0.000751</td>\n",
              "    </tr>\n",
              "    <tr>\n",
              "      <th>3</th>\n",
              "      <td>3</td>\n",
              "      <td>0.834559</td>\n",
              "      <td>0.008771</td>\n",
              "      <td>0.662008</td>\n",
              "      <td>0.001326</td>\n",
              "      <td>0.661753</td>\n",
              "      <td>0.000689</td>\n",
              "    </tr>\n",
              "    <tr>\n",
              "      <th>4</th>\n",
              "      <td>4</td>\n",
              "      <td>0.834483</td>\n",
              "      <td>0.008218</td>\n",
              "      <td>0.654599</td>\n",
              "      <td>0.001429</td>\n",
              "      <td>0.654270</td>\n",
              "      <td>0.000898</td>\n",
              "    </tr>\n",
              "    <tr>\n",
              "      <th>...</th>\n",
              "      <td>...</td>\n",
              "      <td>...</td>\n",
              "      <td>...</td>\n",
              "      <td>...</td>\n",
              "      <td>...</td>\n",
              "      <td>...</td>\n",
              "      <td>...</td>\n",
              "    </tr>\n",
              "    <tr>\n",
              "      <th>995</th>\n",
              "      <td>995</td>\n",
              "      <td>0.868703</td>\n",
              "      <td>0.007809</td>\n",
              "      <td>0.329986</td>\n",
              "      <td>0.016873</td>\n",
              "      <td>0.284097</td>\n",
              "      <td>0.003644</td>\n",
              "    </tr>\n",
              "    <tr>\n",
              "      <th>996</th>\n",
              "      <td>996</td>\n",
              "      <td>0.868715</td>\n",
              "      <td>0.007781</td>\n",
              "      <td>0.329972</td>\n",
              "      <td>0.016875</td>\n",
              "      <td>0.284057</td>\n",
              "      <td>0.003631</td>\n",
              "    </tr>\n",
              "    <tr>\n",
              "      <th>997</th>\n",
              "      <td>997</td>\n",
              "      <td>0.868718</td>\n",
              "      <td>0.007804</td>\n",
              "      <td>0.329972</td>\n",
              "      <td>0.016876</td>\n",
              "      <td>0.284003</td>\n",
              "      <td>0.003636</td>\n",
              "    </tr>\n",
              "    <tr>\n",
              "      <th>998</th>\n",
              "      <td>998</td>\n",
              "      <td>0.868725</td>\n",
              "      <td>0.007777</td>\n",
              "      <td>0.329969</td>\n",
              "      <td>0.016855</td>\n",
              "      <td>0.283943</td>\n",
              "      <td>0.003613</td>\n",
              "    </tr>\n",
              "    <tr>\n",
              "      <th>999</th>\n",
              "      <td>999</td>\n",
              "      <td>0.868729</td>\n",
              "      <td>0.007779</td>\n",
              "      <td>0.329964</td>\n",
              "      <td>0.016869</td>\n",
              "      <td>0.283886</td>\n",
              "      <td>0.003601</td>\n",
              "    </tr>\n",
              "  </tbody>\n",
              "</table>\n",
              "<p>1000 rows × 7 columns</p>\n",
              "</div>\n",
              "      <button class=\"colab-df-convert\" onclick=\"convertToInteractive('df-ac78c5aa-9387-418a-a09b-a3a0f10c81d5')\"\n",
              "              title=\"Convert this dataframe to an interactive table.\"\n",
              "              style=\"display:none;\">\n",
              "        \n",
              "  <svg xmlns=\"http://www.w3.org/2000/svg\" height=\"24px\"viewBox=\"0 0 24 24\"\n",
              "       width=\"24px\">\n",
              "    <path d=\"M0 0h24v24H0V0z\" fill=\"none\"/>\n",
              "    <path d=\"M18.56 5.44l.94 2.06.94-2.06 2.06-.94-2.06-.94-.94-2.06-.94 2.06-2.06.94zm-11 1L8.5 8.5l.94-2.06 2.06-.94-2.06-.94L8.5 2.5l-.94 2.06-2.06.94zm10 10l.94 2.06.94-2.06 2.06-.94-2.06-.94-.94-2.06-.94 2.06-2.06.94z\"/><path d=\"M17.41 7.96l-1.37-1.37c-.4-.4-.92-.59-1.43-.59-.52 0-1.04.2-1.43.59L10.3 9.45l-7.72 7.72c-.78.78-.78 2.05 0 2.83L4 21.41c.39.39.9.59 1.41.59.51 0 1.02-.2 1.41-.59l7.78-7.78 2.81-2.81c.8-.78.8-2.07 0-2.86zM5.41 20L4 18.59l7.72-7.72 1.47 1.35L5.41 20z\"/>\n",
              "  </svg>\n",
              "      </button>\n",
              "      \n",
              "  <style>\n",
              "    .colab-df-container {\n",
              "      display:flex;\n",
              "      flex-wrap:wrap;\n",
              "      gap: 12px;\n",
              "    }\n",
              "\n",
              "    .colab-df-convert {\n",
              "      background-color: #E8F0FE;\n",
              "      border: none;\n",
              "      border-radius: 50%;\n",
              "      cursor: pointer;\n",
              "      display: none;\n",
              "      fill: #1967D2;\n",
              "      height: 32px;\n",
              "      padding: 0 0 0 0;\n",
              "      width: 32px;\n",
              "    }\n",
              "\n",
              "    .colab-df-convert:hover {\n",
              "      background-color: #E2EBFA;\n",
              "      box-shadow: 0px 1px 2px rgba(60, 64, 67, 0.3), 0px 1px 3px 1px rgba(60, 64, 67, 0.15);\n",
              "      fill: #174EA6;\n",
              "    }\n",
              "\n",
              "    [theme=dark] .colab-df-convert {\n",
              "      background-color: #3B4455;\n",
              "      fill: #D2E3FC;\n",
              "    }\n",
              "\n",
              "    [theme=dark] .colab-df-convert:hover {\n",
              "      background-color: #434B5C;\n",
              "      box-shadow: 0px 1px 3px 1px rgba(0, 0, 0, 0.15);\n",
              "      filter: drop-shadow(0px 1px 2px rgba(0, 0, 0, 0.3));\n",
              "      fill: #FFFFFF;\n",
              "    }\n",
              "  </style>\n",
              "\n",
              "      <script>\n",
              "        const buttonEl =\n",
              "          document.querySelector('#df-ac78c5aa-9387-418a-a09b-a3a0f10c81d5 button.colab-df-convert');\n",
              "        buttonEl.style.display =\n",
              "          google.colab.kernel.accessAllowed ? 'block' : 'none';\n",
              "\n",
              "        async function convertToInteractive(key) {\n",
              "          const element = document.querySelector('#df-ac78c5aa-9387-418a-a09b-a3a0f10c81d5');\n",
              "          const dataTable =\n",
              "            await google.colab.kernel.invokeFunction('convertToInteractive',\n",
              "                                                     [key], {});\n",
              "          if (!dataTable) return;\n",
              "\n",
              "          const docLinkHtml = 'Like what you see? Visit the ' +\n",
              "            '<a target=\"_blank\" href=https://colab.research.google.com/notebooks/data_table.ipynb>data table notebook</a>'\n",
              "            + ' to learn more about interactive tables.';\n",
              "          element.innerHTML = '';\n",
              "          dataTable['output_type'] = 'display_data';\n",
              "          await google.colab.output.renderOutput(dataTable, element);\n",
              "          const docLink = document.createElement('div');\n",
              "          docLink.innerHTML = docLinkHtml;\n",
              "          element.appendChild(docLink);\n",
              "        }\n",
              "      </script>\n",
              "    </div>\n",
              "  </div>\n",
              "  "
            ]
          },
          "metadata": {},
          "execution_count": 27
        }
      ]
    },
    {
      "cell_type": "code",
      "source": [
        "cv_data[cv_data['test-AUC-mean'] == cv_data['test-AUC-mean'].max()]"
      ],
      "metadata": {
        "colab": {
          "base_uri": "https://localhost:8080/",
          "height": 142
        },
        "id": "3sm8LYfftaE4",
        "outputId": "c64830c6-1334-4573-ee3f-22bdea52540c"
      },
      "execution_count": 28,
      "outputs": [
        {
          "output_type": "execute_result",
          "data": {
            "text/plain": [
              "     iterations  test-AUC-mean  test-AUC-std  test-Logloss-mean  \\\n",
              "741         741       0.868822      0.007457           0.330818   \n",
              "\n",
              "     test-Logloss-std  train-Logloss-mean  train-Logloss-std  \n",
              "741          0.017005            0.297428           0.004326  "
            ],
            "text/html": [
              "\n",
              "  <div id=\"df-66a23049-1379-4192-bfb7-fb28b016fd7f\">\n",
              "    <div class=\"colab-df-container\">\n",
              "      <div>\n",
              "<style scoped>\n",
              "    .dataframe tbody tr th:only-of-type {\n",
              "        vertical-align: middle;\n",
              "    }\n",
              "\n",
              "    .dataframe tbody tr th {\n",
              "        vertical-align: top;\n",
              "    }\n",
              "\n",
              "    .dataframe thead th {\n",
              "        text-align: right;\n",
              "    }\n",
              "</style>\n",
              "<table border=\"1\" class=\"dataframe\">\n",
              "  <thead>\n",
              "    <tr style=\"text-align: right;\">\n",
              "      <th></th>\n",
              "      <th>iterations</th>\n",
              "      <th>test-AUC-mean</th>\n",
              "      <th>test-AUC-std</th>\n",
              "      <th>test-Logloss-mean</th>\n",
              "      <th>test-Logloss-std</th>\n",
              "      <th>train-Logloss-mean</th>\n",
              "      <th>train-Logloss-std</th>\n",
              "    </tr>\n",
              "  </thead>\n",
              "  <tbody>\n",
              "    <tr>\n",
              "      <th>741</th>\n",
              "      <td>741</td>\n",
              "      <td>0.868822</td>\n",
              "      <td>0.007457</td>\n",
              "      <td>0.330818</td>\n",
              "      <td>0.017005</td>\n",
              "      <td>0.297428</td>\n",
              "      <td>0.004326</td>\n",
              "    </tr>\n",
              "  </tbody>\n",
              "</table>\n",
              "</div>\n",
              "      <button class=\"colab-df-convert\" onclick=\"convertToInteractive('df-66a23049-1379-4192-bfb7-fb28b016fd7f')\"\n",
              "              title=\"Convert this dataframe to an interactive table.\"\n",
              "              style=\"display:none;\">\n",
              "        \n",
              "  <svg xmlns=\"http://www.w3.org/2000/svg\" height=\"24px\"viewBox=\"0 0 24 24\"\n",
              "       width=\"24px\">\n",
              "    <path d=\"M0 0h24v24H0V0z\" fill=\"none\"/>\n",
              "    <path d=\"M18.56 5.44l.94 2.06.94-2.06 2.06-.94-2.06-.94-.94-2.06-.94 2.06-2.06.94zm-11 1L8.5 8.5l.94-2.06 2.06-.94-2.06-.94L8.5 2.5l-.94 2.06-2.06.94zm10 10l.94 2.06.94-2.06 2.06-.94-2.06-.94-.94-2.06-.94 2.06-2.06.94z\"/><path d=\"M17.41 7.96l-1.37-1.37c-.4-.4-.92-.59-1.43-.59-.52 0-1.04.2-1.43.59L10.3 9.45l-7.72 7.72c-.78.78-.78 2.05 0 2.83L4 21.41c.39.39.9.59 1.41.59.51 0 1.02-.2 1.41-.59l7.78-7.78 2.81-2.81c.8-.78.8-2.07 0-2.86zM5.41 20L4 18.59l7.72-7.72 1.47 1.35L5.41 20z\"/>\n",
              "  </svg>\n",
              "      </button>\n",
              "      \n",
              "  <style>\n",
              "    .colab-df-container {\n",
              "      display:flex;\n",
              "      flex-wrap:wrap;\n",
              "      gap: 12px;\n",
              "    }\n",
              "\n",
              "    .colab-df-convert {\n",
              "      background-color: #E8F0FE;\n",
              "      border: none;\n",
              "      border-radius: 50%;\n",
              "      cursor: pointer;\n",
              "      display: none;\n",
              "      fill: #1967D2;\n",
              "      height: 32px;\n",
              "      padding: 0 0 0 0;\n",
              "      width: 32px;\n",
              "    }\n",
              "\n",
              "    .colab-df-convert:hover {\n",
              "      background-color: #E2EBFA;\n",
              "      box-shadow: 0px 1px 2px rgba(60, 64, 67, 0.3), 0px 1px 3px 1px rgba(60, 64, 67, 0.15);\n",
              "      fill: #174EA6;\n",
              "    }\n",
              "\n",
              "    [theme=dark] .colab-df-convert {\n",
              "      background-color: #3B4455;\n",
              "      fill: #D2E3FC;\n",
              "    }\n",
              "\n",
              "    [theme=dark] .colab-df-convert:hover {\n",
              "      background-color: #434B5C;\n",
              "      box-shadow: 0px 1px 3px 1px rgba(0, 0, 0, 0.15);\n",
              "      filter: drop-shadow(0px 1px 2px rgba(0, 0, 0, 0.3));\n",
              "      fill: #FFFFFF;\n",
              "    }\n",
              "  </style>\n",
              "\n",
              "      <script>\n",
              "        const buttonEl =\n",
              "          document.querySelector('#df-66a23049-1379-4192-bfb7-fb28b016fd7f button.colab-df-convert');\n",
              "        buttonEl.style.display =\n",
              "          google.colab.kernel.accessAllowed ? 'block' : 'none';\n",
              "\n",
              "        async function convertToInteractive(key) {\n",
              "          const element = document.querySelector('#df-66a23049-1379-4192-bfb7-fb28b016fd7f');\n",
              "          const dataTable =\n",
              "            await google.colab.kernel.invokeFunction('convertToInteractive',\n",
              "                                                     [key], {});\n",
              "          if (!dataTable) return;\n",
              "\n",
              "          const docLinkHtml = 'Like what you see? Visit the ' +\n",
              "            '<a target=\"_blank\" href=https://colab.research.google.com/notebooks/data_table.ipynb>data table notebook</a>'\n",
              "            + ' to learn more about interactive tables.';\n",
              "          element.innerHTML = '';\n",
              "          dataTable['output_type'] = 'display_data';\n",
              "          await google.colab.output.renderOutput(dataTable, element);\n",
              "          const docLink = document.createElement('div');\n",
              "          docLink.innerHTML = docLinkHtml;\n",
              "          element.appendChild(docLink);\n",
              "        }\n",
              "      </script>\n",
              "    </div>\n",
              "  </div>\n",
              "  "
            ]
          },
          "metadata": {},
          "execution_count": 28
        }
      ]
    },
    {
      "cell_type": "code",
      "source": [
        "n_iters = cv_data[cv_data['test-AUC-mean'] == cv_data['test-AUC-mean'].max()]['iterations'].values[0]"
      ],
      "metadata": {
        "id": "YHSw_Q5IEYnY"
      },
      "execution_count": 29,
      "outputs": []
    },
    {
      "cell_type": "code",
      "source": [
        "n_iters"
      ],
      "metadata": {
        "colab": {
          "base_uri": "https://localhost:8080/"
        },
        "id": "2CTskn2NGcgW",
        "outputId": "27de8dde-5a91-49bc-9df3-bf431b4a6ab4"
      },
      "execution_count": 30,
      "outputs": [
        {
          "output_type": "execute_result",
          "data": {
            "text/plain": [
              "741"
            ]
          },
          "metadata": {},
          "execution_count": 30
        }
      ]
    },
    {
      "cell_type": "code",
      "source": [
        "params = {'iterations':n_iters,\n",
        "          'verbose':100,\n",
        "          'eval_metric':'AUC',\n",
        "          'loss_function': 'Logloss',\n",
        "          'random_seed':42,\n",
        "          'learning_rate':0.01}"
      ],
      "metadata": {
        "id": "f1r0nCzlunU0"
      },
      "execution_count": 31,
      "outputs": []
    },
    {
      "cell_type": "code",
      "source": [
        "model = CatBoostClassifier(**params)"
      ],
      "metadata": {
        "id": "cvN_gv6ounU0"
      },
      "execution_count": 32,
      "outputs": []
    },
    {
      "cell_type": "code",
      "source": [
        "model.fit(train_full_data)"
      ],
      "metadata": {
        "colab": {
          "base_uri": "https://localhost:8080/"
        },
        "outputId": "bd7ceaf0-ae66-498a-9515-30ea6edbfc4a",
        "id": "ZCqZBDWrunU0"
      },
      "execution_count": 33,
      "outputs": [
        {
          "output_type": "stream",
          "name": "stdout",
          "text": [
            "0:\ttotal: 19.8ms\tremaining: 14.6s\n",
            "100:\ttotal: 964ms\tremaining: 6.11s\n",
            "200:\ttotal: 1.88s\tremaining: 5.04s\n",
            "300:\ttotal: 2.77s\tremaining: 4.04s\n",
            "400:\ttotal: 3.67s\tremaining: 3.11s\n",
            "500:\ttotal: 4.56s\tremaining: 2.18s\n",
            "600:\ttotal: 5.43s\tremaining: 1.26s\n",
            "700:\ttotal: 6.34s\tremaining: 362ms\n",
            "740:\ttotal: 6.69s\tremaining: 0us\n"
          ]
        },
        {
          "output_type": "execute_result",
          "data": {
            "text/plain": [
              "<catboost.core.CatBoostClassifier at 0x7fee14bb86d0>"
            ]
          },
          "metadata": {},
          "execution_count": 33
        }
      ]
    },
    {
      "cell_type": "code",
      "source": [
        "test['y_score_cross_val'] = model.predict_proba(test_data)[:,1]"
      ],
      "metadata": {
        "id": "BLzeeu6nvtjY"
      },
      "execution_count": 34,
      "outputs": []
    },
    {
      "cell_type": "code",
      "source": [
        "from sklearn.metrics import roc_auc_score"
      ],
      "metadata": {
        "id": "OQhhEEePwJ4B"
      },
      "execution_count": 35,
      "outputs": []
    },
    {
      "cell_type": "code",
      "source": [
        "roc_auc_score(test['Exited'],test['y_score_cross_val'])"
      ],
      "metadata": {
        "colab": {
          "base_uri": "https://localhost:8080/"
        },
        "id": "bAXLqtpawVSg",
        "outputId": "cb552c0a-def0-406e-d737-868fc4ac174b"
      },
      "execution_count": 36,
      "outputs": [
        {
          "output_type": "execute_result",
          "data": {
            "text/plain": [
              "0.8737196364315009"
            ]
          },
          "metadata": {},
          "execution_count": 36
        }
      ]
    },
    {
      "cell_type": "code",
      "source": [
        "len(train_full)"
      ],
      "metadata": {
        "colab": {
          "base_uri": "https://localhost:8080/"
        },
        "id": "vWtBdGp4G4SA",
        "outputId": "e2c0f737-a51c-42e3-9d05-b3f0bbff6799"
      },
      "execution_count": 37,
      "outputs": [
        {
          "output_type": "execute_result",
          "data": {
            "text/plain": [
              "8000"
            ]
          },
          "metadata": {},
          "execution_count": 37
        }
      ]
    },
    {
      "cell_type": "markdown",
      "source": [
        "# Подбор гиперпараметров"
      ],
      "metadata": {
        "id": "nt9rHMK_wYkZ"
      }
    },
    {
      "cell_type": "markdown",
      "source": [
        "https://github.com/catboost/catboost/blob/master/catboost/tutorials/events/2020_06_04_catboost_tutorial/catboost_features.ipynb"
      ],
      "metadata": {
        "id": "Ove19vFbxnsz"
      }
    },
    {
      "cell_type": "markdown",
      "source": [
        "https://youtu.be/ZaP5qFSIcIw?t=2043"
      ],
      "metadata": {
        "id": "J4_QwymK585P"
      }
    },
    {
      "cell_type": "markdown",
      "source": [
        "https://github.com/catboost/catboost/blob/master/catboost/tutorials/hyperparameters_tuning/hyperparameters_tuning.ipynb"
      ],
      "metadata": {
        "id": "MJ360tP6AF5b"
      }
    },
    {
      "cell_type": "code",
      "source": [
        "model.get_all_params()"
      ],
      "metadata": {
        "colab": {
          "base_uri": "https://localhost:8080/"
        },
        "id": "H3fW3LdY9l6T",
        "outputId": "a2b48f3c-f13c-4960-f9a0-87fc69bc33b8"
      },
      "execution_count": 38,
      "outputs": [
        {
          "output_type": "execute_result",
          "data": {
            "text/plain": [
              "{'auto_class_weights': 'None',\n",
              " 'bayesian_matrix_reg': 0.10000000149011612,\n",
              " 'best_model_min_trees': 1,\n",
              " 'boost_from_average': False,\n",
              " 'boosting_type': 'Plain',\n",
              " 'bootstrap_type': 'MVS',\n",
              " 'border_count': 254,\n",
              " 'class_names': [0, 1],\n",
              " 'classes_count': 0,\n",
              " 'combinations_ctr': ['Borders:CtrBorderCount=15:CtrBorderType=Uniform:TargetBorderCount=1:TargetBorderType=MinEntropy:Prior=0/1:Prior=0.5/1:Prior=1/1',\n",
              "  'Counter:CtrBorderCount=15:CtrBorderType=Uniform:Prior=0/1'],\n",
              " 'counter_calc_method': 'SkipTest',\n",
              " 'ctr_leaf_count_limit': 18446744073709551615,\n",
              " 'ctr_target_border_count': 1,\n",
              " 'depth': 6,\n",
              " 'eval_metric': 'AUC',\n",
              " 'feature_border_type': 'GreedyLogSum',\n",
              " 'fold_permutation_block': 0,\n",
              " 'force_unit_auto_pair_weights': False,\n",
              " 'grow_policy': 'SymmetricTree',\n",
              " 'has_time': False,\n",
              " 'iterations': 741,\n",
              " 'l2_leaf_reg': 3,\n",
              " 'leaf_estimation_backtracking': 'AnyImprovement',\n",
              " 'leaf_estimation_iterations': 10,\n",
              " 'leaf_estimation_method': 'Newton',\n",
              " 'learning_rate': 0.009999999776482582,\n",
              " 'loss_function': 'Logloss',\n",
              " 'max_ctr_complexity': 4,\n",
              " 'max_leaves': 64,\n",
              " 'min_data_in_leaf': 1,\n",
              " 'model_shrink_mode': 'Constant',\n",
              " 'model_shrink_rate': 0,\n",
              " 'model_size_reg': 0.5,\n",
              " 'nan_mode': 'Min',\n",
              " 'one_hot_max_size': 2,\n",
              " 'penalties_coefficient': 1,\n",
              " 'permutation_count': 4,\n",
              " 'pool_metainfo_options': {'tags': {}},\n",
              " 'posterior_sampling': False,\n",
              " 'random_seed': 42,\n",
              " 'random_strength': 1,\n",
              " 'rsm': 1,\n",
              " 'sampling_frequency': 'PerTree',\n",
              " 'score_function': 'Cosine',\n",
              " 'simple_ctr': ['Borders:CtrBorderCount=15:CtrBorderType=Uniform:TargetBorderCount=1:TargetBorderType=MinEntropy:Prior=0/1:Prior=0.5/1:Prior=1/1',\n",
              "  'Counter:CtrBorderCount=15:CtrBorderType=Uniform:Prior=0/1'],\n",
              " 'sparse_features_conflict_fraction': 0,\n",
              " 'store_all_simple_ctr': False,\n",
              " 'subsample': 0.800000011920929,\n",
              " 'task_type': 'CPU',\n",
              " 'use_best_model': False}"
            ]
          },
          "metadata": {},
          "execution_count": 38
        }
      ]
    },
    {
      "cell_type": "code",
      "source": [
        "params = {'verbose':100,\n",
        "          'eval_metric':'AUC',\n",
        "          'loss_function': 'Logloss',\n",
        "          'random_seed':42}"
      ],
      "metadata": {
        "id": "6cVDBqd3xWMx"
      },
      "execution_count": 39,
      "outputs": []
    },
    {
      "cell_type": "code",
      "source": [
        "model = CatBoostClassifier(**params)"
      ],
      "metadata": {
        "id": "jv9mug-TxWMx"
      },
      "execution_count": 40,
      "outputs": []
    },
    {
      "cell_type": "code",
      "source": [
        "grid = {'learning_rate': [0.01, 0.1],\n",
        "        'depth': [5, 6]}"
      ],
      "metadata": {
        "id": "kLDIQCCW44YL"
      },
      "execution_count": 41,
      "outputs": []
    },
    {
      "cell_type": "code",
      "source": [
        "result = model.grid_search(grid, train_full_data, verbose=False)"
      ],
      "metadata": {
        "colab": {
          "base_uri": "https://localhost:8080/"
        },
        "id": "Q1_7wX0hxY77",
        "outputId": "49a1fba1-7e61-441c-b603-cad74f8b0587"
      },
      "execution_count": 42,
      "outputs": [
        {
          "output_type": "stream",
          "name": "stdout",
          "text": [
            "0:\ttest: 0.7811641\tbest: 0.7811641 (0)\ttotal: 9.35ms\tremaining: 9.34s\n",
            "100:\ttest: 0.8435462\tbest: 0.8435769 (99)\ttotal: 816ms\tremaining: 7.26s\n",
            "200:\ttest: 0.8508923\tbest: 0.8508923 (200)\ttotal: 1.59s\tremaining: 6.33s\n",
            "300:\ttest: 0.8547897\tbest: 0.8547897 (300)\ttotal: 2.36s\tremaining: 5.47s\n",
            "400:\ttest: 0.8569385\tbest: 0.8569385 (400)\ttotal: 3.12s\tremaining: 4.66s\n",
            "500:\ttest: 0.8576410\tbest: 0.8576410 (500)\ttotal: 3.91s\tremaining: 3.89s\n",
            "600:\ttest: 0.8585538\tbest: 0.8585538 (600)\ttotal: 4.66s\tremaining: 3.1s\n",
            "700:\ttest: 0.8590923\tbest: 0.8591487 (694)\ttotal: 5.41s\tremaining: 2.31s\n",
            "800:\ttest: 0.8593590\tbest: 0.8595564 (749)\ttotal: 6.16s\tremaining: 1.53s\n",
            "900:\ttest: 0.8593282\tbest: 0.8595564 (749)\ttotal: 6.93s\tremaining: 761ms\n",
            "999:\ttest: 0.8593897\tbest: 0.8595974 (986)\ttotal: 7.69s\tremaining: 0us\n",
            "\n",
            "bestTest = 0.8595974359\n",
            "bestIteration = 986\n",
            "\n",
            "Metric AUC is not calculated on train by default. To calculate this metric on train, add hints=skip_train~false to metric parameters.\n",
            "0:\ttest: 0.7811641\tbest: 0.7811641 (0)\ttotal: 8.29ms\tremaining: 8.28s\n",
            "100:\ttest: 0.8601513\tbest: 0.8604077 (89)\ttotal: 790ms\tremaining: 7.03s\n",
            "200:\ttest: 0.8557769\tbest: 0.8609103 (111)\ttotal: 1.58s\tremaining: 6.28s\n",
            "300:\ttest: 0.8521564\tbest: 0.8609103 (111)\ttotal: 2.34s\tremaining: 5.43s\n",
            "400:\ttest: 0.8456949\tbest: 0.8609103 (111)\ttotal: 3.14s\tremaining: 4.69s\n",
            "500:\ttest: 0.8432923\tbest: 0.8609103 (111)\ttotal: 3.93s\tremaining: 3.91s\n",
            "600:\ttest: 0.8407359\tbest: 0.8609103 (111)\ttotal: 4.72s\tremaining: 3.13s\n",
            "700:\ttest: 0.8388282\tbest: 0.8609103 (111)\ttotal: 5.5s\tremaining: 2.35s\n",
            "800:\ttest: 0.8358282\tbest: 0.8609103 (111)\ttotal: 6.28s\tremaining: 1.56s\n",
            "900:\ttest: 0.8356949\tbest: 0.8609103 (111)\ttotal: 7.07s\tremaining: 777ms\n",
            "999:\ttest: 0.8335590\tbest: 0.8609103 (111)\ttotal: 7.84s\tremaining: 0us\n",
            "\n",
            "bestTest = 0.8609102564\n",
            "bestIteration = 111\n",
            "\n",
            "Metric AUC is not calculated on train by default. To calculate this metric on train, add hints=skip_train~false to metric parameters.\n",
            "0:\ttest: 0.8068872\tbest: 0.8068872 (0)\ttotal: 9.54ms\tremaining: 9.54s\n",
            "100:\ttest: 0.8455590\tbest: 0.8455590 (100)\ttotal: 865ms\tremaining: 7.7s\n",
            "200:\ttest: 0.8530923\tbest: 0.8530923 (200)\ttotal: 1.71s\tremaining: 6.78s\n",
            "300:\ttest: 0.8563026\tbest: 0.8563410 (292)\ttotal: 2.56s\tremaining: 5.94s\n",
            "400:\ttest: 0.8578000\tbest: 0.8578385 (398)\ttotal: 3.44s\tremaining: 5.13s\n",
            "500:\ttest: 0.8583872\tbest: 0.8584821 (476)\ttotal: 4.3s\tremaining: 4.28s\n",
            "600:\ttest: 0.8588821\tbest: 0.8589487 (593)\ttotal: 5.18s\tremaining: 3.44s\n",
            "700:\ttest: 0.8587308\tbest: 0.8590282 (605)\ttotal: 6.01s\tremaining: 2.56s\n",
            "800:\ttest: 0.8584744\tbest: 0.8590282 (605)\ttotal: 6.87s\tremaining: 1.71s\n",
            "900:\ttest: 0.8583590\tbest: 0.8590282 (605)\ttotal: 7.75s\tremaining: 852ms\n",
            "999:\ttest: 0.8581103\tbest: 0.8590282 (605)\ttotal: 8.62s\tremaining: 0us\n",
            "\n",
            "bestTest = 0.8590282051\n",
            "bestIteration = 605\n",
            "\n",
            "Metric AUC is not calculated on train by default. To calculate this metric on train, add hints=skip_train~false to metric parameters.\n",
            "0:\ttest: 0.8068872\tbest: 0.8068872 (0)\ttotal: 9.26ms\tremaining: 9.25s\n",
            "100:\ttest: 0.8554795\tbest: 0.8574051 (69)\ttotal: 850ms\tremaining: 7.57s\n",
            "200:\ttest: 0.8486359\tbest: 0.8574051 (69)\ttotal: 1.75s\tremaining: 6.95s\n",
            "300:\ttest: 0.8455051\tbest: 0.8574051 (69)\ttotal: 2.65s\tremaining: 6.16s\n",
            "400:\ttest: 0.8399846\tbest: 0.8574051 (69)\ttotal: 3.56s\tremaining: 5.32s\n",
            "500:\ttest: 0.8388077\tbest: 0.8574051 (69)\ttotal: 4.46s\tremaining: 4.44s\n",
            "600:\ttest: 0.8364026\tbest: 0.8574051 (69)\ttotal: 5.35s\tremaining: 3.55s\n",
            "700:\ttest: 0.8340974\tbest: 0.8574051 (69)\ttotal: 6.25s\tremaining: 2.66s\n",
            "800:\ttest: 0.8320769\tbest: 0.8574051 (69)\ttotal: 7.16s\tremaining: 1.78s\n",
            "900:\ttest: 0.8298923\tbest: 0.8574051 (69)\ttotal: 8.05s\tremaining: 884ms\n",
            "999:\ttest: 0.8302846\tbest: 0.8574051 (69)\ttotal: 8.94s\tremaining: 0us\n",
            "\n",
            "bestTest = 0.8574051282\n",
            "bestIteration = 69\n",
            "\n",
            "Metric AUC is not calculated on train by default. To calculate this metric on train, add hints=skip_train~false to metric parameters.\n",
            "Training on fold [0/3]\n",
            "0:\ttest: 0.8023131\tbest: 0.8023131 (0)\ttotal: 7.71ms\tremaining: 7.71s\n",
            "100:\ttest: 0.8696792\tbest: 0.8705039 (90)\ttotal: 728ms\tremaining: 6.48s\n",
            "200:\ttest: 0.8691616\tbest: 0.8705039 (90)\ttotal: 1.43s\tremaining: 5.68s\n",
            "300:\ttest: 0.8649927\tbest: 0.8705039 (90)\ttotal: 2.15s\tremaining: 4.99s\n",
            "400:\ttest: 0.8618130\tbest: 0.8705039 (90)\ttotal: 2.88s\tremaining: 4.3s\n",
            "500:\ttest: 0.8585372\tbest: 0.8705039 (90)\ttotal: 3.59s\tremaining: 3.58s\n",
            "600:\ttest: 0.8561217\tbest: 0.8705039 (90)\ttotal: 4.31s\tremaining: 2.86s\n",
            "700:\ttest: 0.8537443\tbest: 0.8705039 (90)\ttotal: 5.04s\tremaining: 2.15s\n",
            "800:\ttest: 0.8515755\tbest: 0.8705039 (90)\ttotal: 5.77s\tremaining: 1.43s\n",
            "900:\ttest: 0.8500341\tbest: 0.8705039 (90)\ttotal: 6.47s\tremaining: 711ms\n",
            "999:\ttest: 0.8484927\tbest: 0.8705039 (90)\ttotal: 7.2s\tremaining: 0us\n",
            "\n",
            "bestTest = 0.8705039396\n",
            "bestIteration = 90\n",
            "\n",
            "Training on fold [1/3]\n",
            "0:\ttest: 0.7921723\tbest: 0.7921723 (0)\ttotal: 7.57ms\tremaining: 7.56s\n",
            "100:\ttest: 0.8705982\tbest: 0.8712713 (94)\ttotal: 761ms\tremaining: 6.77s\n",
            "200:\ttest: 0.8665098\tbest: 0.8712713 (94)\ttotal: 1.48s\tremaining: 5.9s\n",
            "300:\ttest: 0.8628075\tbest: 0.8712713 (94)\ttotal: 2.19s\tremaining: 5.1s\n",
            "400:\ttest: 0.8613719\tbest: 0.8712713 (94)\ttotal: 2.91s\tremaining: 4.35s\n",
            "500:\ttest: 0.8585821\tbest: 0.8712713 (94)\ttotal: 3.64s\tremaining: 3.62s\n",
            "600:\ttest: 0.8552467\tbest: 0.8712713 (94)\ttotal: 4.36s\tremaining: 2.9s\n",
            "700:\ttest: 0.8529644\tbest: 0.8712713 (94)\ttotal: 5.08s\tremaining: 2.17s\n",
            "800:\ttest: 0.8514316\tbest: 0.8712713 (94)\ttotal: 5.79s\tremaining: 1.44s\n",
            "900:\ttest: 0.8502718\tbest: 0.8712713 (94)\ttotal: 6.5s\tremaining: 715ms\n",
            "999:\ttest: 0.8486688\tbest: 0.8712713 (94)\ttotal: 7.22s\tremaining: 0us\n",
            "\n",
            "bestTest = 0.8712713255\n",
            "bestIteration = 94\n",
            "\n",
            "Training on fold [2/3]\n",
            "0:\ttest: 0.7876129\tbest: 0.7876129 (0)\ttotal: 7.21ms\tremaining: 7.2s\n",
            "100:\ttest: 0.8656068\tbest: 0.8656805 (98)\ttotal: 705ms\tremaining: 6.27s\n",
            "200:\ttest: 0.8618255\tbest: 0.8657300 (108)\ttotal: 1.43s\tremaining: 5.67s\n",
            "300:\ttest: 0.8583852\tbest: 0.8657300 (108)\ttotal: 2.13s\tremaining: 4.95s\n",
            "400:\ttest: 0.8567639\tbest: 0.8657300 (108)\ttotal: 2.85s\tremaining: 4.26s\n",
            "500:\ttest: 0.8542344\tbest: 0.8657300 (108)\ttotal: 3.58s\tremaining: 3.56s\n",
            "600:\ttest: 0.8514845\tbest: 0.8657300 (108)\ttotal: 4.31s\tremaining: 2.86s\n",
            "700:\ttest: 0.8493506\tbest: 0.8657300 (108)\ttotal: 5.02s\tremaining: 2.14s\n",
            "800:\ttest: 0.8479305\tbest: 0.8657300 (108)\ttotal: 5.77s\tremaining: 1.43s\n",
            "900:\ttest: 0.8464246\tbest: 0.8657300 (108)\ttotal: 6.5s\tremaining: 714ms\n",
            "999:\ttest: 0.8454210\tbest: 0.8657300 (108)\ttotal: 7.21s\tremaining: 0us\n",
            "\n",
            "bestTest = 0.8657299818\n",
            "bestIteration = 108\n",
            "\n"
          ]
        }
      ]
    },
    {
      "cell_type": "code",
      "source": [
        "result['params']"
      ],
      "metadata": {
        "colab": {
          "base_uri": "https://localhost:8080/"
        },
        "id": "Qqz4YfmG5qRh",
        "outputId": "a2155ef2-ef7a-4c54-889b-6caaae0df931"
      },
      "execution_count": 47,
      "outputs": [
        {
          "output_type": "execute_result",
          "data": {
            "text/plain": [
              "{'depth': 5, 'learning_rate': 0.1}"
            ]
          },
          "metadata": {},
          "execution_count": 47
        }
      ]
    },
    {
      "cell_type": "code",
      "source": [
        "pd.DataFrame(result['cv_results'])['test-AUC-mean'].max()"
      ],
      "metadata": {
        "colab": {
          "base_uri": "https://localhost:8080/"
        },
        "id": "DP-l3f3u6Eef",
        "outputId": "334fe93a-e5c9-4b33-c6c3-2b4376faab6f"
      },
      "execution_count": 48,
      "outputs": [
        {
          "output_type": "execute_result",
          "data": {
            "text/plain": [
              "0.8689660773549619"
            ]
          },
          "metadata": {},
          "execution_count": 48
        }
      ]
    },
    {
      "cell_type": "markdown",
      "source": [
        "# Принципы sklearn"
      ],
      "metadata": {
        "id": "BRew2fz4AjkD"
      }
    },
    {
      "cell_type": "markdown",
      "source": [
        "https://towardsdatascience.com/how-to-use-sklearn-pipelines-for-ridiculously-neat-code-a61ab66ca90d"
      ],
      "metadata": {
        "id": "8MeznnE-BLeh"
      }
    },
    {
      "cell_type": "markdown",
      "source": [
        "# Преодбработка и фичеинжениринг"
      ],
      "metadata": {
        "id": "z1RriLT3DFuq"
      }
    },
    {
      "cell_type": "markdown",
      "source": [
        "https://catboost.ai/en/docs/concepts/quantization"
      ],
      "metadata": {
        "id": "iqabc2KMqxhw"
      }
    },
    {
      "cell_type": "markdown",
      "source": [
        "https://www.kaggle.com/learn/feature-engineering"
      ],
      "metadata": {
        "id": "m8Fk0CgbDXKj"
      }
    },
    {
      "cell_type": "markdown",
      "source": [
        "# Калибровка"
      ],
      "metadata": {
        "id": "ooe7cpX2Dj8V"
      }
    },
    {
      "cell_type": "markdown",
      "source": [
        "https://www.kaggle.com/residentmario/notes-on-classification-probability-calibration"
      ],
      "metadata": {
        "id": "bBOvxi-ID0Ui"
      }
    },
    {
      "cell_type": "markdown",
      "source": [
        "# Catboost, тексты и эмбеддинги"
      ],
      "metadata": {
        "id": "3alYRP7TD41v"
      }
    },
    {
      "cell_type": "markdown",
      "source": [
        "https://github.com/catboost/catboost/blob/master/catboost/tutorials/events/2020_06_04_catboost_tutorial/text_features.ipynb"
      ],
      "metadata": {
        "id": "LDJewx3lEApw"
      }
    },
    {
      "cell_type": "markdown",
      "source": [
        "https://youtu.be/ZaP5qFSIcIw?t=3802"
      ],
      "metadata": {
        "id": "8oD3T0AMEgKW"
      }
    },
    {
      "cell_type": "markdown",
      "source": [
        "# Главные навыки для аналитика"
      ],
      "metadata": {
        "id": "KXqA-rIjH4W6"
      }
    },
    {
      "cell_type": "markdown",
      "source": [
        "- SQL\n",
        "- pandas\n",
        "- Основы статистики (AB тесты)"
      ],
      "metadata": {
        "id": "SHt6F0TWH8uY"
      }
    },
    {
      "cell_type": "markdown",
      "source": [
        "# Главные навыки для Дата Саентиста"
      ],
      "metadata": {
        "id": "TvU-1oOwIEsB"
      }
    },
    {
      "cell_type": "markdown",
      "source": [
        "- Все то же, что и у аналитика\n",
        "- Машинное обучение (sklearn, catboost)\n",
        "- более продвинутый python (основы ООП)\n",
        "- linux, git, docker, веб-сервисы"
      ],
      "metadata": {
        "id": "hOlWDmPfIKnM"
      }
    },
    {
      "cell_type": "markdown",
      "source": [
        "# Как развиваться дальше?"
      ],
      "metadata": {
        "id": "u54o5NyxEYNf"
      }
    },
    {
      "cell_type": "markdown",
      "source": [
        "- [Прикладное машинное обучение с помощью Scikit-Learn, Keras и TensorFlow: концепции, инструменты и техники для создания интеллектуальных систем, 2-е издание | Жерон Орельен](https://www.ozon.ru/product/prikladnoe-mashinnoe-obuchenie-s-pomoshchyu-scikit-learn-keras-i-tensorflow-kontseptsii-207392052/?sh=HC92ZQyhUQ)\n",
        "- Задачи на kaggle, вот [список](https://www.kaggle.com/getting-started/114864) для начинающих\n",
        "- Откликайся на вакансии и решай тестовые. Можешь смотреть [тестовые по дс у меня на канале](https://www.youtube.com/playlist?list=PLQJ7ptkRY-xbefSg1XN3FA-SdSRFcCQfn)\n",
        "- [Мой курс по статистике](https://www.youtube.com/playlist?list=PLQJ7ptkRY-xbHLLI66KdscKp_FJt0FsIi)\n",
        "- Задачи по pandas и sql на [StrataScratch](https://www.stratascratch.com/?via=gleb)\n",
        "- [Мой курс по SQL](https://www.udemy.com/course/sql-with-gleb/?referralCode=C99EC81AE75FEC9F50A2)\n",
        "- Задачи на [itresume](https://itresume.ru/)\n",
        "- Задачи на [Checkio](https://checkio.org/)\n",
        "- Задачи на [Leetcode](https://leetcode.com/) вот по этому [списку](https://seanprashad.com/leetcode-patterns/)\n",
        "- Мой [плейлист](https://www.youtube.com/playlist?list=PLQJ7ptkRY-xZ4qiXlmQQLgAPyXJhQ7HxZ) по основам Linux\n",
        "- [Основы Git](https://youtu.be/0cGIiA0AjNw)\n",
        "- [Основы докера](https://www.youtube.com/playlist?list=PLQJ7ptkRY-xbR0ka2TUxJkXna40XWu92m)\n",
        "- [Основы веб-сервисов](https://www.youtube.com/playlist?list=PLQJ7ptkRY-xYLEAC5Y_sKqrJ9RA-U7Dja)"
      ],
      "metadata": {
        "id": "XZbY3rO3E9wS"
      }
    },
    {
      "cell_type": "markdown",
      "source": [
        "# Дополнительные материалы"
      ],
      "metadata": {
        "id": "rDogw1UBFAXl"
      }
    },
    {
      "cell_type": "markdown",
      "source": [
        "- [Как работает градиентный бустинг](https://youtu.be/ZNJ3lKyI-EY)\n",
        "- [Как учить английский](https://youtu.be/f9Q4Mwvd5pc)\n",
        "- [Как искать работу](https://deepnote.com/@gleb-mikhaylov-15d6/blog-posts-nXDqO5CTQYOreNE53H3y-A)"
      ],
      "metadata": {
        "id": "MTWpDVdoKzG2"
      }
    },
    {
      "cell_type": "markdown",
      "source": [
        "Мой Telegram-канал: https://t.me/mikhaylovgleb"
      ],
      "metadata": {
        "id": "IhOdmCHfQRYF"
      }
    }
  ]
}