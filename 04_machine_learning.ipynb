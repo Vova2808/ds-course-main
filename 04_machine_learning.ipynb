{
  "nbformat": 4,
  "nbformat_minor": 0,
  "metadata": {
    "colab": {
      "name": "04-machine-learning.ipynb",
      "provenance": [],
      "collapsed_sections": [],
      "authorship_tag": "ABX9TyOCH5/k7An/aLsVDxpIMRD/",
      "include_colab_link": true
    },
    "kernelspec": {
      "name": "python3",
      "display_name": "Python 3"
    },
    "language_info": {
      "name": "python"
    }
  },
  "cells": [
    {
      "cell_type": "markdown",
      "metadata": {
        "id": "view-in-github",
        "colab_type": "text"
      },
      "source": [
        "<a href=\"https://colab.research.google.com/github/glebmikha/ds-course/blob/main/04_machine_learning.ipynb\" target=\"_parent\"><img src=\"https://colab.research.google.com/assets/colab-badge.svg\" alt=\"Open In Colab\"/></a>"
      ]
    },
    {
      "cell_type": "markdown",
      "source": [
        "Мой Telegram-канал: https://t.me/mikhaylovgleb"
      ],
      "metadata": {
        "id": "N9ekqV59Rm-N"
      }
    },
    {
      "cell_type": "markdown",
      "source": [
        "# Загрузка данных"
      ],
      "metadata": {
        "id": "QjnDKUMWXTVi"
      }
    },
    {
      "cell_type": "markdown",
      "source": [
        "https://www.kaggle.com/adityadesai13/used-car-dataset-ford-and-mercedes?select=bmw.csv"
      ],
      "metadata": {
        "id": "VO_RfNT4WXSA"
      }
    },
    {
      "cell_type": "markdown",
      "source": [
        "https://drive.google.com/file/d/10pq7rvk_FtY-ulQ8ldVM4QAtaR6LWt-j/view?usp=sharing"
      ],
      "metadata": {
        "id": "ih8Zfx5ISnnz"
      }
    },
    {
      "cell_type": "code",
      "source": [
        "! gdown --id 10pq7rvk_FtY-ulQ8ldVM4QAtaR6LWt-j"
      ],
      "metadata": {
        "colab": {
          "base_uri": "https://localhost:8080/"
        },
        "id": "onpHOXMMWSoA",
        "outputId": "d2644955-b8a7-4d8d-cb9e-597fa795c599"
      },
      "execution_count": null,
      "outputs": [
        {
          "output_type": "stream",
          "name": "stdout",
          "text": [
            "Downloading...\n",
            "From: https://drive.google.com/uc?id=10pq7rvk_FtY-ulQ8ldVM4QAtaR6LWt-j\n",
            "To: /content/uk-used-cars.zip\n",
            "\r  0% 0.00/1.15M [00:00<?, ?B/s]\r100% 1.15M/1.15M [00:00<00:00, 23.3MB/s]\n"
          ]
        }
      ]
    },
    {
      "cell_type": "code",
      "source": [
        "! unzip /content/uk-used-cars.zip -d /content/uk-used-cars"
      ],
      "metadata": {
        "colab": {
          "base_uri": "https://localhost:8080/"
        },
        "id": "5lC9LcS-WVBf",
        "outputId": "d1ed20b8-6c7a-4d7e-b55f-92d45bd3a359"
      },
      "execution_count": null,
      "outputs": [
        {
          "output_type": "stream",
          "name": "stdout",
          "text": [
            "Archive:  /content/uk-used-cars.zip\n",
            "  inflating: /content/uk-used-cars/audi.csv  \n",
            "  inflating: /content/uk-used-cars/bmw.csv  \n",
            "  inflating: /content/uk-used-cars/cclass.csv  \n",
            "  inflating: /content/uk-used-cars/focus.csv  \n",
            "  inflating: /content/uk-used-cars/ford.csv  \n",
            "  inflating: /content/uk-used-cars/hyundi.csv  \n",
            "  inflating: /content/uk-used-cars/merc.csv  \n",
            "  inflating: /content/uk-used-cars/skoda.csv  \n",
            "  inflating: /content/uk-used-cars/toyota.csv  \n",
            "  inflating: /content/uk-used-cars/unclean cclass.csv  \n",
            "  inflating: /content/uk-used-cars/unclean focus.csv  \n",
            "  inflating: /content/uk-used-cars/vauxhall.csv  \n",
            "  inflating: /content/uk-used-cars/vw.csv  \n"
          ]
        }
      ]
    },
    {
      "cell_type": "code",
      "source": [
        "import pandas as pd"
      ],
      "metadata": {
        "id": "B2Lh6HYoWk1e"
      },
      "execution_count": null,
      "outputs": []
    },
    {
      "cell_type": "code",
      "source": [
        "df = pd.read_csv('/content/uk-used-cars/bmw.csv')"
      ],
      "metadata": {
        "id": "dmyCkv_WWvSo"
      },
      "execution_count": null,
      "outputs": []
    },
    {
      "cell_type": "code",
      "source": [
        "df.head()"
      ],
      "metadata": {
        "colab": {
          "base_uri": "https://localhost:8080/",
          "height": 206
        },
        "id": "EHNRg1ksWxzw",
        "outputId": "d803890f-ebf1-4028-d360-e4b01f0b6d62"
      },
      "execution_count": null,
      "outputs": [
        {
          "output_type": "execute_result",
          "data": {
            "text/html": [
              "\n",
              "  <div id=\"df-8c259d12-b145-4789-b79e-2edf7583273e\">\n",
              "    <div class=\"colab-df-container\">\n",
              "      <div>\n",
              "<style scoped>\n",
              "    .dataframe tbody tr th:only-of-type {\n",
              "        vertical-align: middle;\n",
              "    }\n",
              "\n",
              "    .dataframe tbody tr th {\n",
              "        vertical-align: top;\n",
              "    }\n",
              "\n",
              "    .dataframe thead th {\n",
              "        text-align: right;\n",
              "    }\n",
              "</style>\n",
              "<table border=\"1\" class=\"dataframe\">\n",
              "  <thead>\n",
              "    <tr style=\"text-align: right;\">\n",
              "      <th></th>\n",
              "      <th>model</th>\n",
              "      <th>year</th>\n",
              "      <th>price</th>\n",
              "      <th>transmission</th>\n",
              "      <th>mileage</th>\n",
              "      <th>fuelType</th>\n",
              "      <th>tax</th>\n",
              "      <th>mpg</th>\n",
              "      <th>engineSize</th>\n",
              "    </tr>\n",
              "  </thead>\n",
              "  <tbody>\n",
              "    <tr>\n",
              "      <th>0</th>\n",
              "      <td>5 Series</td>\n",
              "      <td>2014</td>\n",
              "      <td>11200</td>\n",
              "      <td>Automatic</td>\n",
              "      <td>67068</td>\n",
              "      <td>Diesel</td>\n",
              "      <td>125</td>\n",
              "      <td>57.6</td>\n",
              "      <td>2.0</td>\n",
              "    </tr>\n",
              "    <tr>\n",
              "      <th>1</th>\n",
              "      <td>6 Series</td>\n",
              "      <td>2018</td>\n",
              "      <td>27000</td>\n",
              "      <td>Automatic</td>\n",
              "      <td>14827</td>\n",
              "      <td>Petrol</td>\n",
              "      <td>145</td>\n",
              "      <td>42.8</td>\n",
              "      <td>2.0</td>\n",
              "    </tr>\n",
              "    <tr>\n",
              "      <th>2</th>\n",
              "      <td>5 Series</td>\n",
              "      <td>2016</td>\n",
              "      <td>16000</td>\n",
              "      <td>Automatic</td>\n",
              "      <td>62794</td>\n",
              "      <td>Diesel</td>\n",
              "      <td>160</td>\n",
              "      <td>51.4</td>\n",
              "      <td>3.0</td>\n",
              "    </tr>\n",
              "    <tr>\n",
              "      <th>3</th>\n",
              "      <td>1 Series</td>\n",
              "      <td>2017</td>\n",
              "      <td>12750</td>\n",
              "      <td>Automatic</td>\n",
              "      <td>26676</td>\n",
              "      <td>Diesel</td>\n",
              "      <td>145</td>\n",
              "      <td>72.4</td>\n",
              "      <td>1.5</td>\n",
              "    </tr>\n",
              "    <tr>\n",
              "      <th>4</th>\n",
              "      <td>7 Series</td>\n",
              "      <td>2014</td>\n",
              "      <td>14500</td>\n",
              "      <td>Automatic</td>\n",
              "      <td>39554</td>\n",
              "      <td>Diesel</td>\n",
              "      <td>160</td>\n",
              "      <td>50.4</td>\n",
              "      <td>3.0</td>\n",
              "    </tr>\n",
              "  </tbody>\n",
              "</table>\n",
              "</div>\n",
              "      <button class=\"colab-df-convert\" onclick=\"convertToInteractive('df-8c259d12-b145-4789-b79e-2edf7583273e')\"\n",
              "              title=\"Convert this dataframe to an interactive table.\"\n",
              "              style=\"display:none;\">\n",
              "        \n",
              "  <svg xmlns=\"http://www.w3.org/2000/svg\" height=\"24px\"viewBox=\"0 0 24 24\"\n",
              "       width=\"24px\">\n",
              "    <path d=\"M0 0h24v24H0V0z\" fill=\"none\"/>\n",
              "    <path d=\"M18.56 5.44l.94 2.06.94-2.06 2.06-.94-2.06-.94-.94-2.06-.94 2.06-2.06.94zm-11 1L8.5 8.5l.94-2.06 2.06-.94-2.06-.94L8.5 2.5l-.94 2.06-2.06.94zm10 10l.94 2.06.94-2.06 2.06-.94-2.06-.94-.94-2.06-.94 2.06-2.06.94z\"/><path d=\"M17.41 7.96l-1.37-1.37c-.4-.4-.92-.59-1.43-.59-.52 0-1.04.2-1.43.59L10.3 9.45l-7.72 7.72c-.78.78-.78 2.05 0 2.83L4 21.41c.39.39.9.59 1.41.59.51 0 1.02-.2 1.41-.59l7.78-7.78 2.81-2.81c.8-.78.8-2.07 0-2.86zM5.41 20L4 18.59l7.72-7.72 1.47 1.35L5.41 20z\"/>\n",
              "  </svg>\n",
              "      </button>\n",
              "      \n",
              "  <style>\n",
              "    .colab-df-container {\n",
              "      display:flex;\n",
              "      flex-wrap:wrap;\n",
              "      gap: 12px;\n",
              "    }\n",
              "\n",
              "    .colab-df-convert {\n",
              "      background-color: #E8F0FE;\n",
              "      border: none;\n",
              "      border-radius: 50%;\n",
              "      cursor: pointer;\n",
              "      display: none;\n",
              "      fill: #1967D2;\n",
              "      height: 32px;\n",
              "      padding: 0 0 0 0;\n",
              "      width: 32px;\n",
              "    }\n",
              "\n",
              "    .colab-df-convert:hover {\n",
              "      background-color: #E2EBFA;\n",
              "      box-shadow: 0px 1px 2px rgba(60, 64, 67, 0.3), 0px 1px 3px 1px rgba(60, 64, 67, 0.15);\n",
              "      fill: #174EA6;\n",
              "    }\n",
              "\n",
              "    [theme=dark] .colab-df-convert {\n",
              "      background-color: #3B4455;\n",
              "      fill: #D2E3FC;\n",
              "    }\n",
              "\n",
              "    [theme=dark] .colab-df-convert:hover {\n",
              "      background-color: #434B5C;\n",
              "      box-shadow: 0px 1px 3px 1px rgba(0, 0, 0, 0.15);\n",
              "      filter: drop-shadow(0px 1px 2px rgba(0, 0, 0, 0.3));\n",
              "      fill: #FFFFFF;\n",
              "    }\n",
              "  </style>\n",
              "\n",
              "      <script>\n",
              "        const buttonEl =\n",
              "          document.querySelector('#df-8c259d12-b145-4789-b79e-2edf7583273e button.colab-df-convert');\n",
              "        buttonEl.style.display =\n",
              "          google.colab.kernel.accessAllowed ? 'block' : 'none';\n",
              "\n",
              "        async function convertToInteractive(key) {\n",
              "          const element = document.querySelector('#df-8c259d12-b145-4789-b79e-2edf7583273e');\n",
              "          const dataTable =\n",
              "            await google.colab.kernel.invokeFunction('convertToInteractive',\n",
              "                                                     [key], {});\n",
              "          if (!dataTable) return;\n",
              "\n",
              "          const docLinkHtml = 'Like what you see? Visit the ' +\n",
              "            '<a target=\"_blank\" href=https://colab.research.google.com/notebooks/data_table.ipynb>data table notebook</a>'\n",
              "            + ' to learn more about interactive tables.';\n",
              "          element.innerHTML = '';\n",
              "          dataTable['output_type'] = 'display_data';\n",
              "          await google.colab.output.renderOutput(dataTable, element);\n",
              "          const docLink = document.createElement('div');\n",
              "          docLink.innerHTML = docLinkHtml;\n",
              "          element.appendChild(docLink);\n",
              "        }\n",
              "      </script>\n",
              "    </div>\n",
              "  </div>\n",
              "  "
            ],
            "text/plain": [
              "       model  year  price transmission  mileage fuelType  tax   mpg  engineSize\n",
              "0   5 Series  2014  11200    Automatic    67068   Diesel  125  57.6         2.0\n",
              "1   6 Series  2018  27000    Automatic    14827   Petrol  145  42.8         2.0\n",
              "2   5 Series  2016  16000    Automatic    62794   Diesel  160  51.4         3.0\n",
              "3   1 Series  2017  12750    Automatic    26676   Diesel  145  72.4         1.5\n",
              "4   7 Series  2014  14500    Automatic    39554   Diesel  160  50.4         3.0"
            ]
          },
          "metadata": {},
          "execution_count": 5
        }
      ]
    },
    {
      "cell_type": "markdown",
      "source": [
        "# Обучающая и тестовая выборка (train and test)"
      ],
      "metadata": {
        "id": "KDbbspT8W0HE"
      }
    },
    {
      "cell_type": "code",
      "source": [
        "from sklearn.model_selection import train_test_split"
      ],
      "metadata": {
        "id": "ZVKWDXi7nCzX"
      },
      "execution_count": null,
      "outputs": []
    },
    {
      "cell_type": "code",
      "source": [
        "train, test = train_test_split(df,train_size=0.6,random_state=42)"
      ],
      "metadata": {
        "id": "dqPPX1HOqROI"
      },
      "execution_count": null,
      "outputs": []
    },
    {
      "cell_type": "markdown",
      "source": [
        "# Валидационная выборка"
      ],
      "metadata": {
        "id": "Jp6MOuZC6Ge0"
      }
    },
    {
      "cell_type": "code",
      "source": [
        "len(train) / len(df)"
      ],
      "metadata": {
        "colab": {
          "base_uri": "https://localhost:8080/"
        },
        "id": "WwW5-FMr7BSY",
        "outputId": "d57043b5-b037-4a60-90fa-5042c23d49ff"
      },
      "execution_count": null,
      "outputs": [
        {
          "output_type": "execute_result",
          "data": {
            "text/plain": [
              "0.5999443465355718"
            ]
          },
          "metadata": {},
          "execution_count": 8
        }
      ]
    },
    {
      "cell_type": "code",
      "source": [
        "len(test) / len(df)"
      ],
      "metadata": {
        "colab": {
          "base_uri": "https://localhost:8080/"
        },
        "id": "uXNtpGy5-FCJ",
        "outputId": "e88b2f0a-f61b-4a1d-95c1-10325d68cd68"
      },
      "execution_count": null,
      "outputs": [
        {
          "output_type": "execute_result",
          "data": {
            "text/plain": [
              "0.4000556534644282"
            ]
          },
          "metadata": {},
          "execution_count": 9
        }
      ]
    },
    {
      "cell_type": "code",
      "source": [
        "val, test = train_test_split(test,train_size=0.5,random_state=42)"
      ],
      "metadata": {
        "id": "qJMAgflu-L7X"
      },
      "execution_count": null,
      "outputs": []
    },
    {
      "cell_type": "code",
      "source": [
        "len(train) / len(df)"
      ],
      "metadata": {
        "colab": {
          "base_uri": "https://localhost:8080/"
        },
        "id": "Ptyk1lB4-VFB",
        "outputId": "ac07046f-2320-414b-dbff-a8a70ef0e515"
      },
      "execution_count": null,
      "outputs": [
        {
          "output_type": "execute_result",
          "data": {
            "text/plain": [
              "0.5999443465355718"
            ]
          },
          "metadata": {},
          "execution_count": 11
        }
      ]
    },
    {
      "cell_type": "code",
      "source": [
        "len(val) / len(df)"
      ],
      "metadata": {
        "colab": {
          "base_uri": "https://localhost:8080/"
        },
        "id": "EcO0ebng-XqK",
        "outputId": "8528557a-d028-4b9f-b218-29311d6d5135"
      },
      "execution_count": null,
      "outputs": [
        {
          "output_type": "execute_result",
          "data": {
            "text/plain": [
              "0.19998144884519062"
            ]
          },
          "metadata": {},
          "execution_count": 12
        }
      ]
    },
    {
      "cell_type": "code",
      "source": [
        "len(test) / len(df)"
      ],
      "metadata": {
        "colab": {
          "base_uri": "https://localhost:8080/"
        },
        "id": "vTJcSKeE-YZ8",
        "outputId": "a43c7a2c-3421-429a-ae30-6b644e027751"
      },
      "execution_count": null,
      "outputs": [
        {
          "output_type": "execute_result",
          "data": {
            "text/plain": [
              "0.20007420461923756"
            ]
          },
          "metadata": {},
          "execution_count": 13
        }
      ]
    },
    {
      "cell_type": "markdown",
      "source": [
        "# Список фичей"
      ],
      "metadata": {
        "id": "L55NB-VH-Zkv"
      }
    },
    {
      "cell_type": "code",
      "source": [
        "train.columns"
      ],
      "metadata": {
        "colab": {
          "base_uri": "https://localhost:8080/"
        },
        "id": "oLur8oM6C03y",
        "outputId": "34b44739-2f81-4f3b-bdfd-6fbc18a68589"
      },
      "execution_count": null,
      "outputs": [
        {
          "output_type": "execute_result",
          "data": {
            "text/plain": [
              "Index(['model', 'year', 'price', 'transmission', 'mileage', 'fuelType', 'tax',\n",
              "       'mpg', 'engineSize'],\n",
              "      dtype='object')"
            ]
          },
          "metadata": {},
          "execution_count": 14
        }
      ]
    },
    {
      "cell_type": "code",
      "source": [
        "train"
      ],
      "metadata": {
        "colab": {
          "base_uri": "https://localhost:8080/",
          "height": 423
        },
        "id": "VjKdgjqPD3Ux",
        "outputId": "6579e02e-124b-415f-b63b-4e2b650a1d45"
      },
      "execution_count": null,
      "outputs": [
        {
          "output_type": "execute_result",
          "data": {
            "text/html": [
              "\n",
              "  <div id=\"df-bb0bfa9b-31e5-4831-9b06-2ca67faa21b3\">\n",
              "    <div class=\"colab-df-container\">\n",
              "      <div>\n",
              "<style scoped>\n",
              "    .dataframe tbody tr th:only-of-type {\n",
              "        vertical-align: middle;\n",
              "    }\n",
              "\n",
              "    .dataframe tbody tr th {\n",
              "        vertical-align: top;\n",
              "    }\n",
              "\n",
              "    .dataframe thead th {\n",
              "        text-align: right;\n",
              "    }\n",
              "</style>\n",
              "<table border=\"1\" class=\"dataframe\">\n",
              "  <thead>\n",
              "    <tr style=\"text-align: right;\">\n",
              "      <th></th>\n",
              "      <th>model</th>\n",
              "      <th>year</th>\n",
              "      <th>price</th>\n",
              "      <th>transmission</th>\n",
              "      <th>mileage</th>\n",
              "      <th>fuelType</th>\n",
              "      <th>tax</th>\n",
              "      <th>mpg</th>\n",
              "      <th>engineSize</th>\n",
              "    </tr>\n",
              "  </thead>\n",
              "  <tbody>\n",
              "    <tr>\n",
              "      <th>5133</th>\n",
              "      <td>X6</td>\n",
              "      <td>2015</td>\n",
              "      <td>25000</td>\n",
              "      <td>Semi-Auto</td>\n",
              "      <td>26100</td>\n",
              "      <td>Diesel</td>\n",
              "      <td>205</td>\n",
              "      <td>45.6</td>\n",
              "      <td>3.0</td>\n",
              "    </tr>\n",
              "    <tr>\n",
              "      <th>2121</th>\n",
              "      <td>X2</td>\n",
              "      <td>2019</td>\n",
              "      <td>31980</td>\n",
              "      <td>Automatic</td>\n",
              "      <td>4804</td>\n",
              "      <td>Petrol</td>\n",
              "      <td>145</td>\n",
              "      <td>34.0</td>\n",
              "      <td>2.0</td>\n",
              "    </tr>\n",
              "    <tr>\n",
              "      <th>6576</th>\n",
              "      <td>X2</td>\n",
              "      <td>2018</td>\n",
              "      <td>22995</td>\n",
              "      <td>Semi-Auto</td>\n",
              "      <td>24136</td>\n",
              "      <td>Petrol</td>\n",
              "      <td>145</td>\n",
              "      <td>38.7</td>\n",
              "      <td>2.0</td>\n",
              "    </tr>\n",
              "    <tr>\n",
              "      <th>8330</th>\n",
              "      <td>3 Series</td>\n",
              "      <td>2016</td>\n",
              "      <td>12999</td>\n",
              "      <td>Manual</td>\n",
              "      <td>52224</td>\n",
              "      <td>Diesel</td>\n",
              "      <td>125</td>\n",
              "      <td>62.8</td>\n",
              "      <td>2.0</td>\n",
              "    </tr>\n",
              "    <tr>\n",
              "      <th>3161</th>\n",
              "      <td>X3</td>\n",
              "      <td>2019</td>\n",
              "      <td>32980</td>\n",
              "      <td>Semi-Auto</td>\n",
              "      <td>1961</td>\n",
              "      <td>Diesel</td>\n",
              "      <td>150</td>\n",
              "      <td>54.3</td>\n",
              "      <td>2.0</td>\n",
              "    </tr>\n",
              "    <tr>\n",
              "      <th>...</th>\n",
              "      <td>...</td>\n",
              "      <td>...</td>\n",
              "      <td>...</td>\n",
              "      <td>...</td>\n",
              "      <td>...</td>\n",
              "      <td>...</td>\n",
              "      <td>...</td>\n",
              "      <td>...</td>\n",
              "      <td>...</td>\n",
              "    </tr>\n",
              "    <tr>\n",
              "      <th>5734</th>\n",
              "      <td>3 Series</td>\n",
              "      <td>2018</td>\n",
              "      <td>17995</td>\n",
              "      <td>Semi-Auto</td>\n",
              "      <td>40456</td>\n",
              "      <td>Diesel</td>\n",
              "      <td>145</td>\n",
              "      <td>64.2</td>\n",
              "      <td>2.0</td>\n",
              "    </tr>\n",
              "    <tr>\n",
              "      <th>5191</th>\n",
              "      <td>1 Series</td>\n",
              "      <td>2016</td>\n",
              "      <td>19950</td>\n",
              "      <td>Semi-Auto</td>\n",
              "      <td>23210</td>\n",
              "      <td>Petrol</td>\n",
              "      <td>200</td>\n",
              "      <td>39.8</td>\n",
              "      <td>3.0</td>\n",
              "    </tr>\n",
              "    <tr>\n",
              "      <th>5390</th>\n",
              "      <td>X2</td>\n",
              "      <td>2019</td>\n",
              "      <td>25450</td>\n",
              "      <td>Semi-Auto</td>\n",
              "      <td>5652</td>\n",
              "      <td>Diesel</td>\n",
              "      <td>145</td>\n",
              "      <td>47.9</td>\n",
              "      <td>2.0</td>\n",
              "    </tr>\n",
              "    <tr>\n",
              "      <th>860</th>\n",
              "      <td>X1</td>\n",
              "      <td>2016</td>\n",
              "      <td>19850</td>\n",
              "      <td>Semi-Auto</td>\n",
              "      <td>14542</td>\n",
              "      <td>Diesel</td>\n",
              "      <td>125</td>\n",
              "      <td>60.1</td>\n",
              "      <td>2.0</td>\n",
              "    </tr>\n",
              "    <tr>\n",
              "      <th>7270</th>\n",
              "      <td>1 Series</td>\n",
              "      <td>2016</td>\n",
              "      <td>15745</td>\n",
              "      <td>Automatic</td>\n",
              "      <td>17237</td>\n",
              "      <td>Petrol</td>\n",
              "      <td>125</td>\n",
              "      <td>54.3</td>\n",
              "      <td>1.5</td>\n",
              "    </tr>\n",
              "  </tbody>\n",
              "</table>\n",
              "<p>6468 rows × 9 columns</p>\n",
              "</div>\n",
              "      <button class=\"colab-df-convert\" onclick=\"convertToInteractive('df-bb0bfa9b-31e5-4831-9b06-2ca67faa21b3')\"\n",
              "              title=\"Convert this dataframe to an interactive table.\"\n",
              "              style=\"display:none;\">\n",
              "        \n",
              "  <svg xmlns=\"http://www.w3.org/2000/svg\" height=\"24px\"viewBox=\"0 0 24 24\"\n",
              "       width=\"24px\">\n",
              "    <path d=\"M0 0h24v24H0V0z\" fill=\"none\"/>\n",
              "    <path d=\"M18.56 5.44l.94 2.06.94-2.06 2.06-.94-2.06-.94-.94-2.06-.94 2.06-2.06.94zm-11 1L8.5 8.5l.94-2.06 2.06-.94-2.06-.94L8.5 2.5l-.94 2.06-2.06.94zm10 10l.94 2.06.94-2.06 2.06-.94-2.06-.94-.94-2.06-.94 2.06-2.06.94z\"/><path d=\"M17.41 7.96l-1.37-1.37c-.4-.4-.92-.59-1.43-.59-.52 0-1.04.2-1.43.59L10.3 9.45l-7.72 7.72c-.78.78-.78 2.05 0 2.83L4 21.41c.39.39.9.59 1.41.59.51 0 1.02-.2 1.41-.59l7.78-7.78 2.81-2.81c.8-.78.8-2.07 0-2.86zM5.41 20L4 18.59l7.72-7.72 1.47 1.35L5.41 20z\"/>\n",
              "  </svg>\n",
              "      </button>\n",
              "      \n",
              "  <style>\n",
              "    .colab-df-container {\n",
              "      display:flex;\n",
              "      flex-wrap:wrap;\n",
              "      gap: 12px;\n",
              "    }\n",
              "\n",
              "    .colab-df-convert {\n",
              "      background-color: #E8F0FE;\n",
              "      border: none;\n",
              "      border-radius: 50%;\n",
              "      cursor: pointer;\n",
              "      display: none;\n",
              "      fill: #1967D2;\n",
              "      height: 32px;\n",
              "      padding: 0 0 0 0;\n",
              "      width: 32px;\n",
              "    }\n",
              "\n",
              "    .colab-df-convert:hover {\n",
              "      background-color: #E2EBFA;\n",
              "      box-shadow: 0px 1px 2px rgba(60, 64, 67, 0.3), 0px 1px 3px 1px rgba(60, 64, 67, 0.15);\n",
              "      fill: #174EA6;\n",
              "    }\n",
              "\n",
              "    [theme=dark] .colab-df-convert {\n",
              "      background-color: #3B4455;\n",
              "      fill: #D2E3FC;\n",
              "    }\n",
              "\n",
              "    [theme=dark] .colab-df-convert:hover {\n",
              "      background-color: #434B5C;\n",
              "      box-shadow: 0px 1px 3px 1px rgba(0, 0, 0, 0.15);\n",
              "      filter: drop-shadow(0px 1px 2px rgba(0, 0, 0, 0.3));\n",
              "      fill: #FFFFFF;\n",
              "    }\n",
              "  </style>\n",
              "\n",
              "      <script>\n",
              "        const buttonEl =\n",
              "          document.querySelector('#df-bb0bfa9b-31e5-4831-9b06-2ca67faa21b3 button.colab-df-convert');\n",
              "        buttonEl.style.display =\n",
              "          google.colab.kernel.accessAllowed ? 'block' : 'none';\n",
              "\n",
              "        async function convertToInteractive(key) {\n",
              "          const element = document.querySelector('#df-bb0bfa9b-31e5-4831-9b06-2ca67faa21b3');\n",
              "          const dataTable =\n",
              "            await google.colab.kernel.invokeFunction('convertToInteractive',\n",
              "                                                     [key], {});\n",
              "          if (!dataTable) return;\n",
              "\n",
              "          const docLinkHtml = 'Like what you see? Visit the ' +\n",
              "            '<a target=\"_blank\" href=https://colab.research.google.com/notebooks/data_table.ipynb>data table notebook</a>'\n",
              "            + ' to learn more about interactive tables.';\n",
              "          element.innerHTML = '';\n",
              "          dataTable['output_type'] = 'display_data';\n",
              "          await google.colab.output.renderOutput(dataTable, element);\n",
              "          const docLink = document.createElement('div');\n",
              "          docLink.innerHTML = docLinkHtml;\n",
              "          element.appendChild(docLink);\n",
              "        }\n",
              "      </script>\n",
              "    </div>\n",
              "  </div>\n",
              "  "
            ],
            "text/plain": [
              "          model  year  price transmission  ...  fuelType  tax   mpg  engineSize\n",
              "5133         X6  2015  25000    Semi-Auto  ...    Diesel  205  45.6         3.0\n",
              "2121         X2  2019  31980    Automatic  ...    Petrol  145  34.0         2.0\n",
              "6576         X2  2018  22995    Semi-Auto  ...    Petrol  145  38.7         2.0\n",
              "8330   3 Series  2016  12999       Manual  ...    Diesel  125  62.8         2.0\n",
              "3161         X3  2019  32980    Semi-Auto  ...    Diesel  150  54.3         2.0\n",
              "...         ...   ...    ...          ...  ...       ...  ...   ...         ...\n",
              "5734   3 Series  2018  17995    Semi-Auto  ...    Diesel  145  64.2         2.0\n",
              "5191   1 Series  2016  19950    Semi-Auto  ...    Petrol  200  39.8         3.0\n",
              "5390         X2  2019  25450    Semi-Auto  ...    Diesel  145  47.9         2.0\n",
              "860          X1  2016  19850    Semi-Auto  ...    Diesel  125  60.1         2.0\n",
              "7270   1 Series  2016  15745    Automatic  ...    Petrol  125  54.3         1.5\n",
              "\n",
              "[6468 rows x 9 columns]"
            ]
          },
          "metadata": {},
          "execution_count": 15
        }
      ]
    },
    {
      "cell_type": "code",
      "source": [
        "X = ['model', 'year', 'transmission', 'mileage', 'fuelType', 'tax',\n",
        "       'mpg', 'engineSize']\n",
        "\n",
        "cat_features = ['model', 'transmission', 'fuelType']\n",
        "\n",
        "y = ['price']"
      ],
      "metadata": {
        "id": "BVxkHvWqDkWf"
      },
      "execution_count": null,
      "outputs": []
    },
    {
      "cell_type": "markdown",
      "source": [
        "# Принцип преобразования категориальных фичей"
      ],
      "metadata": {
        "id": "yFjgPssBF-2Z"
      }
    },
    {
      "cell_type": "code",
      "source": [
        "train['transmission']"
      ],
      "metadata": {
        "colab": {
          "base_uri": "https://localhost:8080/"
        },
        "id": "zhwp089cpQWC",
        "outputId": "5ee30a6a-4d62-412a-c018-c6bd19383ab9"
      },
      "execution_count": null,
      "outputs": [
        {
          "output_type": "execute_result",
          "data": {
            "text/plain": [
              "5133    Semi-Auto\n",
              "2121    Automatic\n",
              "6576    Semi-Auto\n",
              "8330       Manual\n",
              "3161    Semi-Auto\n",
              "          ...    \n",
              "5734    Semi-Auto\n",
              "5191    Semi-Auto\n",
              "5390    Semi-Auto\n",
              "860     Semi-Auto\n",
              "7270    Automatic\n",
              "Name: transmission, Length: 6468, dtype: object"
            ]
          },
          "metadata": {},
          "execution_count": 17
        }
      ]
    },
    {
      "cell_type": "code",
      "source": [
        "pd.get_dummies(train['transmission'])"
      ],
      "metadata": {
        "colab": {
          "base_uri": "https://localhost:8080/",
          "height": 423
        },
        "id": "sYpDtnFIKQJ0",
        "outputId": "7187854a-94a7-489f-d003-9e3845087482"
      },
      "execution_count": null,
      "outputs": [
        {
          "output_type": "execute_result",
          "data": {
            "text/html": [
              "\n",
              "  <div id=\"df-d5022185-35b6-4be1-a444-e8f280d1ad6b\">\n",
              "    <div class=\"colab-df-container\">\n",
              "      <div>\n",
              "<style scoped>\n",
              "    .dataframe tbody tr th:only-of-type {\n",
              "        vertical-align: middle;\n",
              "    }\n",
              "\n",
              "    .dataframe tbody tr th {\n",
              "        vertical-align: top;\n",
              "    }\n",
              "\n",
              "    .dataframe thead th {\n",
              "        text-align: right;\n",
              "    }\n",
              "</style>\n",
              "<table border=\"1\" class=\"dataframe\">\n",
              "  <thead>\n",
              "    <tr style=\"text-align: right;\">\n",
              "      <th></th>\n",
              "      <th>Automatic</th>\n",
              "      <th>Manual</th>\n",
              "      <th>Semi-Auto</th>\n",
              "    </tr>\n",
              "  </thead>\n",
              "  <tbody>\n",
              "    <tr>\n",
              "      <th>5133</th>\n",
              "      <td>0</td>\n",
              "      <td>0</td>\n",
              "      <td>1</td>\n",
              "    </tr>\n",
              "    <tr>\n",
              "      <th>2121</th>\n",
              "      <td>1</td>\n",
              "      <td>0</td>\n",
              "      <td>0</td>\n",
              "    </tr>\n",
              "    <tr>\n",
              "      <th>6576</th>\n",
              "      <td>0</td>\n",
              "      <td>0</td>\n",
              "      <td>1</td>\n",
              "    </tr>\n",
              "    <tr>\n",
              "      <th>8330</th>\n",
              "      <td>0</td>\n",
              "      <td>1</td>\n",
              "      <td>0</td>\n",
              "    </tr>\n",
              "    <tr>\n",
              "      <th>3161</th>\n",
              "      <td>0</td>\n",
              "      <td>0</td>\n",
              "      <td>1</td>\n",
              "    </tr>\n",
              "    <tr>\n",
              "      <th>...</th>\n",
              "      <td>...</td>\n",
              "      <td>...</td>\n",
              "      <td>...</td>\n",
              "    </tr>\n",
              "    <tr>\n",
              "      <th>5734</th>\n",
              "      <td>0</td>\n",
              "      <td>0</td>\n",
              "      <td>1</td>\n",
              "    </tr>\n",
              "    <tr>\n",
              "      <th>5191</th>\n",
              "      <td>0</td>\n",
              "      <td>0</td>\n",
              "      <td>1</td>\n",
              "    </tr>\n",
              "    <tr>\n",
              "      <th>5390</th>\n",
              "      <td>0</td>\n",
              "      <td>0</td>\n",
              "      <td>1</td>\n",
              "    </tr>\n",
              "    <tr>\n",
              "      <th>860</th>\n",
              "      <td>0</td>\n",
              "      <td>0</td>\n",
              "      <td>1</td>\n",
              "    </tr>\n",
              "    <tr>\n",
              "      <th>7270</th>\n",
              "      <td>1</td>\n",
              "      <td>0</td>\n",
              "      <td>0</td>\n",
              "    </tr>\n",
              "  </tbody>\n",
              "</table>\n",
              "<p>6468 rows × 3 columns</p>\n",
              "</div>\n",
              "      <button class=\"colab-df-convert\" onclick=\"convertToInteractive('df-d5022185-35b6-4be1-a444-e8f280d1ad6b')\"\n",
              "              title=\"Convert this dataframe to an interactive table.\"\n",
              "              style=\"display:none;\">\n",
              "        \n",
              "  <svg xmlns=\"http://www.w3.org/2000/svg\" height=\"24px\"viewBox=\"0 0 24 24\"\n",
              "       width=\"24px\">\n",
              "    <path d=\"M0 0h24v24H0V0z\" fill=\"none\"/>\n",
              "    <path d=\"M18.56 5.44l.94 2.06.94-2.06 2.06-.94-2.06-.94-.94-2.06-.94 2.06-2.06.94zm-11 1L8.5 8.5l.94-2.06 2.06-.94-2.06-.94L8.5 2.5l-.94 2.06-2.06.94zm10 10l.94 2.06.94-2.06 2.06-.94-2.06-.94-.94-2.06-.94 2.06-2.06.94z\"/><path d=\"M17.41 7.96l-1.37-1.37c-.4-.4-.92-.59-1.43-.59-.52 0-1.04.2-1.43.59L10.3 9.45l-7.72 7.72c-.78.78-.78 2.05 0 2.83L4 21.41c.39.39.9.59 1.41.59.51 0 1.02-.2 1.41-.59l7.78-7.78 2.81-2.81c.8-.78.8-2.07 0-2.86zM5.41 20L4 18.59l7.72-7.72 1.47 1.35L5.41 20z\"/>\n",
              "  </svg>\n",
              "      </button>\n",
              "      \n",
              "  <style>\n",
              "    .colab-df-container {\n",
              "      display:flex;\n",
              "      flex-wrap:wrap;\n",
              "      gap: 12px;\n",
              "    }\n",
              "\n",
              "    .colab-df-convert {\n",
              "      background-color: #E8F0FE;\n",
              "      border: none;\n",
              "      border-radius: 50%;\n",
              "      cursor: pointer;\n",
              "      display: none;\n",
              "      fill: #1967D2;\n",
              "      height: 32px;\n",
              "      padding: 0 0 0 0;\n",
              "      width: 32px;\n",
              "    }\n",
              "\n",
              "    .colab-df-convert:hover {\n",
              "      background-color: #E2EBFA;\n",
              "      box-shadow: 0px 1px 2px rgba(60, 64, 67, 0.3), 0px 1px 3px 1px rgba(60, 64, 67, 0.15);\n",
              "      fill: #174EA6;\n",
              "    }\n",
              "\n",
              "    [theme=dark] .colab-df-convert {\n",
              "      background-color: #3B4455;\n",
              "      fill: #D2E3FC;\n",
              "    }\n",
              "\n",
              "    [theme=dark] .colab-df-convert:hover {\n",
              "      background-color: #434B5C;\n",
              "      box-shadow: 0px 1px 3px 1px rgba(0, 0, 0, 0.15);\n",
              "      filter: drop-shadow(0px 1px 2px rgba(0, 0, 0, 0.3));\n",
              "      fill: #FFFFFF;\n",
              "    }\n",
              "  </style>\n",
              "\n",
              "      <script>\n",
              "        const buttonEl =\n",
              "          document.querySelector('#df-d5022185-35b6-4be1-a444-e8f280d1ad6b button.colab-df-convert');\n",
              "        buttonEl.style.display =\n",
              "          google.colab.kernel.accessAllowed ? 'block' : 'none';\n",
              "\n",
              "        async function convertToInteractive(key) {\n",
              "          const element = document.querySelector('#df-d5022185-35b6-4be1-a444-e8f280d1ad6b');\n",
              "          const dataTable =\n",
              "            await google.colab.kernel.invokeFunction('convertToInteractive',\n",
              "                                                     [key], {});\n",
              "          if (!dataTable) return;\n",
              "\n",
              "          const docLinkHtml = 'Like what you see? Visit the ' +\n",
              "            '<a target=\"_blank\" href=https://colab.research.google.com/notebooks/data_table.ipynb>data table notebook</a>'\n",
              "            + ' to learn more about interactive tables.';\n",
              "          element.innerHTML = '';\n",
              "          dataTable['output_type'] = 'display_data';\n",
              "          await google.colab.output.renderOutput(dataTable, element);\n",
              "          const docLink = document.createElement('div');\n",
              "          docLink.innerHTML = docLinkHtml;\n",
              "          element.appendChild(docLink);\n",
              "        }\n",
              "      </script>\n",
              "    </div>\n",
              "  </div>\n",
              "  "
            ],
            "text/plain": [
              "      Automatic  Manual  Semi-Auto\n",
              "5133          0       0          1\n",
              "2121          1       0          0\n",
              "6576          0       0          1\n",
              "8330          0       1          0\n",
              "3161          0       0          1\n",
              "...         ...     ...        ...\n",
              "5734          0       0          1\n",
              "5191          0       0          1\n",
              "5390          0       0          1\n",
              "860           0       0          1\n",
              "7270          1       0          0\n",
              "\n",
              "[6468 rows x 3 columns]"
            ]
          },
          "metadata": {},
          "execution_count": 18
        }
      ]
    },
    {
      "cell_type": "markdown",
      "source": [
        "https://catboost.ai/en/docs/concepts/algorithm-main-stages_cat-to-numberic"
      ],
      "metadata": {
        "id": "SJtmBKRqpNVC"
      }
    },
    {
      "cell_type": "markdown",
      "source": [
        "# Первый запуск Кэтбуста"
      ],
      "metadata": {
        "id": "Ii424d3UqOHc"
      }
    },
    {
      "cell_type": "code",
      "source": [
        "! pip install catboost"
      ],
      "metadata": {
        "colab": {
          "base_uri": "https://localhost:8080/"
        },
        "id": "Al4ucYmEu8OY",
        "outputId": "92d3f453-1d4b-4980-8723-f3c389dcc022"
      },
      "execution_count": null,
      "outputs": [
        {
          "output_type": "stream",
          "name": "stdout",
          "text": [
            "Collecting catboost\n",
            "  Downloading catboost-1.0.4-cp37-none-manylinux1_x86_64.whl (76.1 MB)\n",
            "\u001b[K     |████████████████████████████████| 76.1 MB 44 kB/s \n",
            "\u001b[?25hRequirement already satisfied: graphviz in /usr/local/lib/python3.7/dist-packages (from catboost) (0.10.1)\n",
            "Requirement already satisfied: matplotlib in /usr/local/lib/python3.7/dist-packages (from catboost) (3.2.2)\n",
            "Requirement already satisfied: scipy in /usr/local/lib/python3.7/dist-packages (from catboost) (1.4.1)\n",
            "Requirement already satisfied: numpy>=1.16.0 in /usr/local/lib/python3.7/dist-packages (from catboost) (1.21.5)\n",
            "Requirement already satisfied: plotly in /usr/local/lib/python3.7/dist-packages (from catboost) (5.5.0)\n",
            "Requirement already satisfied: six in /usr/local/lib/python3.7/dist-packages (from catboost) (1.15.0)\n",
            "Requirement already satisfied: pandas>=0.24.0 in /usr/local/lib/python3.7/dist-packages (from catboost) (1.3.5)\n",
            "Requirement already satisfied: python-dateutil>=2.7.3 in /usr/local/lib/python3.7/dist-packages (from pandas>=0.24.0->catboost) (2.8.2)\n",
            "Requirement already satisfied: pytz>=2017.3 in /usr/local/lib/python3.7/dist-packages (from pandas>=0.24.0->catboost) (2018.9)\n",
            "Requirement already satisfied: kiwisolver>=1.0.1 in /usr/local/lib/python3.7/dist-packages (from matplotlib->catboost) (1.3.2)\n",
            "Requirement already satisfied: cycler>=0.10 in /usr/local/lib/python3.7/dist-packages (from matplotlib->catboost) (0.11.0)\n",
            "Requirement already satisfied: pyparsing!=2.0.4,!=2.1.2,!=2.1.6,>=2.0.1 in /usr/local/lib/python3.7/dist-packages (from matplotlib->catboost) (3.0.7)\n",
            "Requirement already satisfied: tenacity>=6.2.0 in /usr/local/lib/python3.7/dist-packages (from plotly->catboost) (8.0.1)\n",
            "Installing collected packages: catboost\n",
            "Successfully installed catboost-1.0.4\n"
          ]
        }
      ]
    },
    {
      "cell_type": "code",
      "source": [
        "train"
      ],
      "metadata": {
        "colab": {
          "base_uri": "https://localhost:8080/",
          "height": 423
        },
        "id": "Te36rcJfvt9H",
        "outputId": "399d3b11-1ccc-4feb-980f-4df508f02462"
      },
      "execution_count": null,
      "outputs": [
        {
          "output_type": "execute_result",
          "data": {
            "text/html": [
              "\n",
              "  <div id=\"df-78d7c84b-f069-4b8c-872f-bc37147bdea9\">\n",
              "    <div class=\"colab-df-container\">\n",
              "      <div>\n",
              "<style scoped>\n",
              "    .dataframe tbody tr th:only-of-type {\n",
              "        vertical-align: middle;\n",
              "    }\n",
              "\n",
              "    .dataframe tbody tr th {\n",
              "        vertical-align: top;\n",
              "    }\n",
              "\n",
              "    .dataframe thead th {\n",
              "        text-align: right;\n",
              "    }\n",
              "</style>\n",
              "<table border=\"1\" class=\"dataframe\">\n",
              "  <thead>\n",
              "    <tr style=\"text-align: right;\">\n",
              "      <th></th>\n",
              "      <th>model</th>\n",
              "      <th>year</th>\n",
              "      <th>price</th>\n",
              "      <th>transmission</th>\n",
              "      <th>mileage</th>\n",
              "      <th>fuelType</th>\n",
              "      <th>tax</th>\n",
              "      <th>mpg</th>\n",
              "      <th>engineSize</th>\n",
              "    </tr>\n",
              "  </thead>\n",
              "  <tbody>\n",
              "    <tr>\n",
              "      <th>5133</th>\n",
              "      <td>X6</td>\n",
              "      <td>2015</td>\n",
              "      <td>25000</td>\n",
              "      <td>Semi-Auto</td>\n",
              "      <td>26100</td>\n",
              "      <td>Diesel</td>\n",
              "      <td>205</td>\n",
              "      <td>45.6</td>\n",
              "      <td>3.0</td>\n",
              "    </tr>\n",
              "    <tr>\n",
              "      <th>2121</th>\n",
              "      <td>X2</td>\n",
              "      <td>2019</td>\n",
              "      <td>31980</td>\n",
              "      <td>Automatic</td>\n",
              "      <td>4804</td>\n",
              "      <td>Petrol</td>\n",
              "      <td>145</td>\n",
              "      <td>34.0</td>\n",
              "      <td>2.0</td>\n",
              "    </tr>\n",
              "    <tr>\n",
              "      <th>6576</th>\n",
              "      <td>X2</td>\n",
              "      <td>2018</td>\n",
              "      <td>22995</td>\n",
              "      <td>Semi-Auto</td>\n",
              "      <td>24136</td>\n",
              "      <td>Petrol</td>\n",
              "      <td>145</td>\n",
              "      <td>38.7</td>\n",
              "      <td>2.0</td>\n",
              "    </tr>\n",
              "    <tr>\n",
              "      <th>8330</th>\n",
              "      <td>3 Series</td>\n",
              "      <td>2016</td>\n",
              "      <td>12999</td>\n",
              "      <td>Manual</td>\n",
              "      <td>52224</td>\n",
              "      <td>Diesel</td>\n",
              "      <td>125</td>\n",
              "      <td>62.8</td>\n",
              "      <td>2.0</td>\n",
              "    </tr>\n",
              "    <tr>\n",
              "      <th>3161</th>\n",
              "      <td>X3</td>\n",
              "      <td>2019</td>\n",
              "      <td>32980</td>\n",
              "      <td>Semi-Auto</td>\n",
              "      <td>1961</td>\n",
              "      <td>Diesel</td>\n",
              "      <td>150</td>\n",
              "      <td>54.3</td>\n",
              "      <td>2.0</td>\n",
              "    </tr>\n",
              "    <tr>\n",
              "      <th>...</th>\n",
              "      <td>...</td>\n",
              "      <td>...</td>\n",
              "      <td>...</td>\n",
              "      <td>...</td>\n",
              "      <td>...</td>\n",
              "      <td>...</td>\n",
              "      <td>...</td>\n",
              "      <td>...</td>\n",
              "      <td>...</td>\n",
              "    </tr>\n",
              "    <tr>\n",
              "      <th>5734</th>\n",
              "      <td>3 Series</td>\n",
              "      <td>2018</td>\n",
              "      <td>17995</td>\n",
              "      <td>Semi-Auto</td>\n",
              "      <td>40456</td>\n",
              "      <td>Diesel</td>\n",
              "      <td>145</td>\n",
              "      <td>64.2</td>\n",
              "      <td>2.0</td>\n",
              "    </tr>\n",
              "    <tr>\n",
              "      <th>5191</th>\n",
              "      <td>1 Series</td>\n",
              "      <td>2016</td>\n",
              "      <td>19950</td>\n",
              "      <td>Semi-Auto</td>\n",
              "      <td>23210</td>\n",
              "      <td>Petrol</td>\n",
              "      <td>200</td>\n",
              "      <td>39.8</td>\n",
              "      <td>3.0</td>\n",
              "    </tr>\n",
              "    <tr>\n",
              "      <th>5390</th>\n",
              "      <td>X2</td>\n",
              "      <td>2019</td>\n",
              "      <td>25450</td>\n",
              "      <td>Semi-Auto</td>\n",
              "      <td>5652</td>\n",
              "      <td>Diesel</td>\n",
              "      <td>145</td>\n",
              "      <td>47.9</td>\n",
              "      <td>2.0</td>\n",
              "    </tr>\n",
              "    <tr>\n",
              "      <th>860</th>\n",
              "      <td>X1</td>\n",
              "      <td>2016</td>\n",
              "      <td>19850</td>\n",
              "      <td>Semi-Auto</td>\n",
              "      <td>14542</td>\n",
              "      <td>Diesel</td>\n",
              "      <td>125</td>\n",
              "      <td>60.1</td>\n",
              "      <td>2.0</td>\n",
              "    </tr>\n",
              "    <tr>\n",
              "      <th>7270</th>\n",
              "      <td>1 Series</td>\n",
              "      <td>2016</td>\n",
              "      <td>15745</td>\n",
              "      <td>Automatic</td>\n",
              "      <td>17237</td>\n",
              "      <td>Petrol</td>\n",
              "      <td>125</td>\n",
              "      <td>54.3</td>\n",
              "      <td>1.5</td>\n",
              "    </tr>\n",
              "  </tbody>\n",
              "</table>\n",
              "<p>6468 rows × 9 columns</p>\n",
              "</div>\n",
              "      <button class=\"colab-df-convert\" onclick=\"convertToInteractive('df-78d7c84b-f069-4b8c-872f-bc37147bdea9')\"\n",
              "              title=\"Convert this dataframe to an interactive table.\"\n",
              "              style=\"display:none;\">\n",
              "        \n",
              "  <svg xmlns=\"http://www.w3.org/2000/svg\" height=\"24px\"viewBox=\"0 0 24 24\"\n",
              "       width=\"24px\">\n",
              "    <path d=\"M0 0h24v24H0V0z\" fill=\"none\"/>\n",
              "    <path d=\"M18.56 5.44l.94 2.06.94-2.06 2.06-.94-2.06-.94-.94-2.06-.94 2.06-2.06.94zm-11 1L8.5 8.5l.94-2.06 2.06-.94-2.06-.94L8.5 2.5l-.94 2.06-2.06.94zm10 10l.94 2.06.94-2.06 2.06-.94-2.06-.94-.94-2.06-.94 2.06-2.06.94z\"/><path d=\"M17.41 7.96l-1.37-1.37c-.4-.4-.92-.59-1.43-.59-.52 0-1.04.2-1.43.59L10.3 9.45l-7.72 7.72c-.78.78-.78 2.05 0 2.83L4 21.41c.39.39.9.59 1.41.59.51 0 1.02-.2 1.41-.59l7.78-7.78 2.81-2.81c.8-.78.8-2.07 0-2.86zM5.41 20L4 18.59l7.72-7.72 1.47 1.35L5.41 20z\"/>\n",
              "  </svg>\n",
              "      </button>\n",
              "      \n",
              "  <style>\n",
              "    .colab-df-container {\n",
              "      display:flex;\n",
              "      flex-wrap:wrap;\n",
              "      gap: 12px;\n",
              "    }\n",
              "\n",
              "    .colab-df-convert {\n",
              "      background-color: #E8F0FE;\n",
              "      border: none;\n",
              "      border-radius: 50%;\n",
              "      cursor: pointer;\n",
              "      display: none;\n",
              "      fill: #1967D2;\n",
              "      height: 32px;\n",
              "      padding: 0 0 0 0;\n",
              "      width: 32px;\n",
              "    }\n",
              "\n",
              "    .colab-df-convert:hover {\n",
              "      background-color: #E2EBFA;\n",
              "      box-shadow: 0px 1px 2px rgba(60, 64, 67, 0.3), 0px 1px 3px 1px rgba(60, 64, 67, 0.15);\n",
              "      fill: #174EA6;\n",
              "    }\n",
              "\n",
              "    [theme=dark] .colab-df-convert {\n",
              "      background-color: #3B4455;\n",
              "      fill: #D2E3FC;\n",
              "    }\n",
              "\n",
              "    [theme=dark] .colab-df-convert:hover {\n",
              "      background-color: #434B5C;\n",
              "      box-shadow: 0px 1px 3px 1px rgba(0, 0, 0, 0.15);\n",
              "      filter: drop-shadow(0px 1px 2px rgba(0, 0, 0, 0.3));\n",
              "      fill: #FFFFFF;\n",
              "    }\n",
              "  </style>\n",
              "\n",
              "      <script>\n",
              "        const buttonEl =\n",
              "          document.querySelector('#df-78d7c84b-f069-4b8c-872f-bc37147bdea9 button.colab-df-convert');\n",
              "        buttonEl.style.display =\n",
              "          google.colab.kernel.accessAllowed ? 'block' : 'none';\n",
              "\n",
              "        async function convertToInteractive(key) {\n",
              "          const element = document.querySelector('#df-78d7c84b-f069-4b8c-872f-bc37147bdea9');\n",
              "          const dataTable =\n",
              "            await google.colab.kernel.invokeFunction('convertToInteractive',\n",
              "                                                     [key], {});\n",
              "          if (!dataTable) return;\n",
              "\n",
              "          const docLinkHtml = 'Like what you see? Visit the ' +\n",
              "            '<a target=\"_blank\" href=https://colab.research.google.com/notebooks/data_table.ipynb>data table notebook</a>'\n",
              "            + ' to learn more about interactive tables.';\n",
              "          element.innerHTML = '';\n",
              "          dataTable['output_type'] = 'display_data';\n",
              "          await google.colab.output.renderOutput(dataTable, element);\n",
              "          const docLink = document.createElement('div');\n",
              "          docLink.innerHTML = docLinkHtml;\n",
              "          element.appendChild(docLink);\n",
              "        }\n",
              "      </script>\n",
              "    </div>\n",
              "  </div>\n",
              "  "
            ],
            "text/plain": [
              "          model  year  price transmission  ...  fuelType  tax   mpg  engineSize\n",
              "5133         X6  2015  25000    Semi-Auto  ...    Diesel  205  45.6         3.0\n",
              "2121         X2  2019  31980    Automatic  ...    Petrol  145  34.0         2.0\n",
              "6576         X2  2018  22995    Semi-Auto  ...    Petrol  145  38.7         2.0\n",
              "8330   3 Series  2016  12999       Manual  ...    Diesel  125  62.8         2.0\n",
              "3161         X3  2019  32980    Semi-Auto  ...    Diesel  150  54.3         2.0\n",
              "...         ...   ...    ...          ...  ...       ...  ...   ...         ...\n",
              "5734   3 Series  2018  17995    Semi-Auto  ...    Diesel  145  64.2         2.0\n",
              "5191   1 Series  2016  19950    Semi-Auto  ...    Petrol  200  39.8         3.0\n",
              "5390         X2  2019  25450    Semi-Auto  ...    Diesel  145  47.9         2.0\n",
              "860          X1  2016  19850    Semi-Auto  ...    Diesel  125  60.1         2.0\n",
              "7270   1 Series  2016  15745    Automatic  ...    Petrol  125  54.3         1.5\n",
              "\n",
              "[6468 rows x 9 columns]"
            ]
          },
          "metadata": {},
          "execution_count": 20
        }
      ]
    },
    {
      "cell_type": "code",
      "source": [
        "from catboost import CatBoostRegressor"
      ],
      "metadata": {
        "id": "MDJCcQFnvb8H"
      },
      "execution_count": null,
      "outputs": []
    },
    {
      "cell_type": "code",
      "source": [
        "X = ['year', 'transmission', 'engineSize']\n",
        "\n",
        "cat_features = ['transmission']\n",
        "\n",
        "y = ['price']"
      ],
      "metadata": {
        "id": "FgEFO3yuwcf_"
      },
      "execution_count": null,
      "outputs": []
    },
    {
      "cell_type": "markdown",
      "source": [
        "https://catboost.ai/en/docs/references/custom-metric__supported-metrics"
      ],
      "metadata": {
        "id": "Rctimum_xJnh"
      }
    },
    {
      "cell_type": "code",
      "source": [
        "model = CatBoostRegressor(cat_features=cat_features,\n",
        "                          eval_metric='MAPE',\n",
        "                          random_seed=42,\n",
        "                          verbose=100)"
      ],
      "metadata": {
        "id": "IygLToXEwJ5g"
      },
      "execution_count": null,
      "outputs": []
    },
    {
      "cell_type": "code",
      "source": [
        "model.fit(train[X],train[y],eval_set=(val[X],val[y]))"
      ],
      "metadata": {
        "colab": {
          "base_uri": "https://localhost:8080/"
        },
        "id": "beebw89UxSIm",
        "outputId": "72ef8055-f7e8-47e5-dd1a-eb9961ae0cd7"
      },
      "execution_count": null,
      "outputs": [
        {
          "output_type": "stream",
          "name": "stdout",
          "text": [
            "Learning rate set to 0.068263\n",
            "0:\tlearn: 0.4603375\ttest: 0.4555509\tbest: 0.4555509 (0)\ttotal: 50.8ms\tremaining: 50.7s\n",
            "100:\tlearn: 0.1546393\ttest: 0.1529687\tbest: 0.1529687 (100)\ttotal: 341ms\tremaining: 3.04s\n",
            "200:\tlearn: 0.1528213\ttest: 0.1517332\tbest: 0.1517332 (200)\ttotal: 734ms\tremaining: 2.92s\n",
            "300:\tlearn: 0.1517532\ttest: 0.1514386\tbest: 0.1514000 (288)\ttotal: 1.08s\tremaining: 2.51s\n",
            "400:\tlearn: 0.1509722\ttest: 0.1515508\tbest: 0.1514000 (288)\ttotal: 1.38s\tremaining: 2.06s\n",
            "500:\tlearn: 0.1502967\ttest: 0.1516166\tbest: 0.1514000 (288)\ttotal: 1.75s\tremaining: 1.74s\n",
            "600:\tlearn: 0.1499412\ttest: 0.1516849\tbest: 0.1514000 (288)\ttotal: 2.13s\tremaining: 1.42s\n",
            "700:\tlearn: 0.1494768\ttest: 0.1516928\tbest: 0.1514000 (288)\ttotal: 2.43s\tremaining: 1.04s\n",
            "800:\tlearn: 0.1490851\ttest: 0.1518297\tbest: 0.1514000 (288)\ttotal: 2.73s\tremaining: 679ms\n",
            "900:\tlearn: 0.1487173\ttest: 0.1519119\tbest: 0.1514000 (288)\ttotal: 3.03s\tremaining: 333ms\n",
            "999:\tlearn: 0.1483869\ttest: 0.1519628\tbest: 0.1514000 (288)\ttotal: 3.32s\tremaining: 0us\n",
            "\n",
            "bestTest = 0.1514000297\n",
            "bestIteration = 288\n",
            "\n",
            "Shrink model to first 289 iterations.\n"
          ]
        },
        {
          "output_type": "execute_result",
          "data": {
            "text/plain": [
              "<catboost.core.CatBoostRegressor at 0x7f4026046e90>"
            ]
          },
          "metadata": {},
          "execution_count": 24
        }
      ]
    },
    {
      "cell_type": "code",
      "source": [
        "model.predict(test[X])"
      ],
      "metadata": {
        "colab": {
          "base_uri": "https://localhost:8080/"
        },
        "id": "mEL1Yq7axlOI",
        "outputId": "4b77c528-b440-4842-880b-0f7c2f1c5616"
      },
      "execution_count": null,
      "outputs": [
        {
          "output_type": "execute_result",
          "data": {
            "text/plain": [
              "array([45436.28801924, 21738.83525716, 16205.32627896, ...,\n",
              "       28444.11570854, 16205.32627896, 27824.78614511])"
            ]
          },
          "metadata": {},
          "execution_count": 25
        }
      ]
    },
    {
      "cell_type": "code",
      "source": [
        "test['price_pred'] = model.predict(test[X])"
      ],
      "metadata": {
        "id": "CSjnsxj8yn8O"
      },
      "execution_count": null,
      "outputs": []
    },
    {
      "cell_type": "code",
      "source": [
        "test"
      ],
      "metadata": {
        "colab": {
          "base_uri": "https://localhost:8080/",
          "height": 423
        },
        "id": "_I9kU5Pcyvsm",
        "outputId": "755c1c1b-461d-4006-ab8d-6db2588490b5"
      },
      "execution_count": null,
      "outputs": [
        {
          "output_type": "execute_result",
          "data": {
            "text/html": [
              "\n",
              "  <div id=\"df-18eeafe6-7bf3-4fed-86aa-9c1f746fc787\">\n",
              "    <div class=\"colab-df-container\">\n",
              "      <div>\n",
              "<style scoped>\n",
              "    .dataframe tbody tr th:only-of-type {\n",
              "        vertical-align: middle;\n",
              "    }\n",
              "\n",
              "    .dataframe tbody tr th {\n",
              "        vertical-align: top;\n",
              "    }\n",
              "\n",
              "    .dataframe thead th {\n",
              "        text-align: right;\n",
              "    }\n",
              "</style>\n",
              "<table border=\"1\" class=\"dataframe\">\n",
              "  <thead>\n",
              "    <tr style=\"text-align: right;\">\n",
              "      <th></th>\n",
              "      <th>model</th>\n",
              "      <th>year</th>\n",
              "      <th>price</th>\n",
              "      <th>transmission</th>\n",
              "      <th>mileage</th>\n",
              "      <th>fuelType</th>\n",
              "      <th>tax</th>\n",
              "      <th>mpg</th>\n",
              "      <th>engineSize</th>\n",
              "      <th>price_pred</th>\n",
              "    </tr>\n",
              "  </thead>\n",
              "  <tbody>\n",
              "    <tr>\n",
              "      <th>4984</th>\n",
              "      <td>X6</td>\n",
              "      <td>2019</td>\n",
              "      <td>52990</td>\n",
              "      <td>Semi-Auto</td>\n",
              "      <td>3086</td>\n",
              "      <td>Diesel</td>\n",
              "      <td>145</td>\n",
              "      <td>34.9</td>\n",
              "      <td>3.0</td>\n",
              "      <td>45436.288019</td>\n",
              "    </tr>\n",
              "    <tr>\n",
              "      <th>4880</th>\n",
              "      <td>X1</td>\n",
              "      <td>2018</td>\n",
              "      <td>24081</td>\n",
              "      <td>Semi-Auto</td>\n",
              "      <td>13245</td>\n",
              "      <td>Diesel</td>\n",
              "      <td>150</td>\n",
              "      <td>60.1</td>\n",
              "      <td>2.0</td>\n",
              "      <td>21738.835257</td>\n",
              "    </tr>\n",
              "    <tr>\n",
              "      <th>9132</th>\n",
              "      <td>1 Series</td>\n",
              "      <td>2016</td>\n",
              "      <td>12999</td>\n",
              "      <td>Automatic</td>\n",
              "      <td>68949</td>\n",
              "      <td>Petrol</td>\n",
              "      <td>200</td>\n",
              "      <td>43.5</td>\n",
              "      <td>2.0</td>\n",
              "      <td>16205.326279</td>\n",
              "    </tr>\n",
              "    <tr>\n",
              "      <th>6451</th>\n",
              "      <td>1 Series</td>\n",
              "      <td>2020</td>\n",
              "      <td>11995</td>\n",
              "      <td>Semi-Auto</td>\n",
              "      <td>10</td>\n",
              "      <td>Petrol</td>\n",
              "      <td>150</td>\n",
              "      <td>34.5</td>\n",
              "      <td>2.0</td>\n",
              "      <td>32088.707415</td>\n",
              "    </tr>\n",
              "    <tr>\n",
              "      <th>7199</th>\n",
              "      <td>3 Series</td>\n",
              "      <td>2020</td>\n",
              "      <td>29875</td>\n",
              "      <td>Semi-Auto</td>\n",
              "      <td>150</td>\n",
              "      <td>Petrol</td>\n",
              "      <td>145</td>\n",
              "      <td>42.2</td>\n",
              "      <td>2.0</td>\n",
              "      <td>32088.707415</td>\n",
              "    </tr>\n",
              "    <tr>\n",
              "      <th>...</th>\n",
              "      <td>...</td>\n",
              "      <td>...</td>\n",
              "      <td>...</td>\n",
              "      <td>...</td>\n",
              "      <td>...</td>\n",
              "      <td>...</td>\n",
              "      <td>...</td>\n",
              "      <td>...</td>\n",
              "      <td>...</td>\n",
              "      <td>...</td>\n",
              "    </tr>\n",
              "    <tr>\n",
              "      <th>9627</th>\n",
              "      <td>3 Series</td>\n",
              "      <td>2015</td>\n",
              "      <td>14999</td>\n",
              "      <td>Automatic</td>\n",
              "      <td>78680</td>\n",
              "      <td>Diesel</td>\n",
              "      <td>160</td>\n",
              "      <td>52.3</td>\n",
              "      <td>3.0</td>\n",
              "      <td>19357.530409</td>\n",
              "    </tr>\n",
              "    <tr>\n",
              "      <th>6096</th>\n",
              "      <td>4 Series</td>\n",
              "      <td>2019</td>\n",
              "      <td>29676</td>\n",
              "      <td>Automatic</td>\n",
              "      <td>7365</td>\n",
              "      <td>Petrol</td>\n",
              "      <td>145</td>\n",
              "      <td>41.5</td>\n",
              "      <td>3.0</td>\n",
              "      <td>44808.449332</td>\n",
              "    </tr>\n",
              "    <tr>\n",
              "      <th>1747</th>\n",
              "      <td>5 Series</td>\n",
              "      <td>2019</td>\n",
              "      <td>30570</td>\n",
              "      <td>Automatic</td>\n",
              "      <td>3067</td>\n",
              "      <td>Hybrid</td>\n",
              "      <td>145</td>\n",
              "      <td>49.6</td>\n",
              "      <td>2.0</td>\n",
              "      <td>28444.115709</td>\n",
              "    </tr>\n",
              "    <tr>\n",
              "      <th>4023</th>\n",
              "      <td>3 Series</td>\n",
              "      <td>2016</td>\n",
              "      <td>14999</td>\n",
              "      <td>Automatic</td>\n",
              "      <td>70054</td>\n",
              "      <td>Hybrid</td>\n",
              "      <td>0</td>\n",
              "      <td>148.7</td>\n",
              "      <td>2.0</td>\n",
              "      <td>16205.326279</td>\n",
              "    </tr>\n",
              "    <tr>\n",
              "      <th>4372</th>\n",
              "      <td>2 Series</td>\n",
              "      <td>2019</td>\n",
              "      <td>24590</td>\n",
              "      <td>Semi-Auto</td>\n",
              "      <td>3300</td>\n",
              "      <td>Diesel</td>\n",
              "      <td>145</td>\n",
              "      <td>48.7</td>\n",
              "      <td>2.0</td>\n",
              "      <td>27824.786145</td>\n",
              "    </tr>\n",
              "  </tbody>\n",
              "</table>\n",
              "<p>2157 rows × 10 columns</p>\n",
              "</div>\n",
              "      <button class=\"colab-df-convert\" onclick=\"convertToInteractive('df-18eeafe6-7bf3-4fed-86aa-9c1f746fc787')\"\n",
              "              title=\"Convert this dataframe to an interactive table.\"\n",
              "              style=\"display:none;\">\n",
              "        \n",
              "  <svg xmlns=\"http://www.w3.org/2000/svg\" height=\"24px\"viewBox=\"0 0 24 24\"\n",
              "       width=\"24px\">\n",
              "    <path d=\"M0 0h24v24H0V0z\" fill=\"none\"/>\n",
              "    <path d=\"M18.56 5.44l.94 2.06.94-2.06 2.06-.94-2.06-.94-.94-2.06-.94 2.06-2.06.94zm-11 1L8.5 8.5l.94-2.06 2.06-.94-2.06-.94L8.5 2.5l-.94 2.06-2.06.94zm10 10l.94 2.06.94-2.06 2.06-.94-2.06-.94-.94-2.06-.94 2.06-2.06.94z\"/><path d=\"M17.41 7.96l-1.37-1.37c-.4-.4-.92-.59-1.43-.59-.52 0-1.04.2-1.43.59L10.3 9.45l-7.72 7.72c-.78.78-.78 2.05 0 2.83L4 21.41c.39.39.9.59 1.41.59.51 0 1.02-.2 1.41-.59l7.78-7.78 2.81-2.81c.8-.78.8-2.07 0-2.86zM5.41 20L4 18.59l7.72-7.72 1.47 1.35L5.41 20z\"/>\n",
              "  </svg>\n",
              "      </button>\n",
              "      \n",
              "  <style>\n",
              "    .colab-df-container {\n",
              "      display:flex;\n",
              "      flex-wrap:wrap;\n",
              "      gap: 12px;\n",
              "    }\n",
              "\n",
              "    .colab-df-convert {\n",
              "      background-color: #E8F0FE;\n",
              "      border: none;\n",
              "      border-radius: 50%;\n",
              "      cursor: pointer;\n",
              "      display: none;\n",
              "      fill: #1967D2;\n",
              "      height: 32px;\n",
              "      padding: 0 0 0 0;\n",
              "      width: 32px;\n",
              "    }\n",
              "\n",
              "    .colab-df-convert:hover {\n",
              "      background-color: #E2EBFA;\n",
              "      box-shadow: 0px 1px 2px rgba(60, 64, 67, 0.3), 0px 1px 3px 1px rgba(60, 64, 67, 0.15);\n",
              "      fill: #174EA6;\n",
              "    }\n",
              "\n",
              "    [theme=dark] .colab-df-convert {\n",
              "      background-color: #3B4455;\n",
              "      fill: #D2E3FC;\n",
              "    }\n",
              "\n",
              "    [theme=dark] .colab-df-convert:hover {\n",
              "      background-color: #434B5C;\n",
              "      box-shadow: 0px 1px 3px 1px rgba(0, 0, 0, 0.15);\n",
              "      filter: drop-shadow(0px 1px 2px rgba(0, 0, 0, 0.3));\n",
              "      fill: #FFFFFF;\n",
              "    }\n",
              "  </style>\n",
              "\n",
              "      <script>\n",
              "        const buttonEl =\n",
              "          document.querySelector('#df-18eeafe6-7bf3-4fed-86aa-9c1f746fc787 button.colab-df-convert');\n",
              "        buttonEl.style.display =\n",
              "          google.colab.kernel.accessAllowed ? 'block' : 'none';\n",
              "\n",
              "        async function convertToInteractive(key) {\n",
              "          const element = document.querySelector('#df-18eeafe6-7bf3-4fed-86aa-9c1f746fc787');\n",
              "          const dataTable =\n",
              "            await google.colab.kernel.invokeFunction('convertToInteractive',\n",
              "                                                     [key], {});\n",
              "          if (!dataTable) return;\n",
              "\n",
              "          const docLinkHtml = 'Like what you see? Visit the ' +\n",
              "            '<a target=\"_blank\" href=https://colab.research.google.com/notebooks/data_table.ipynb>data table notebook</a>'\n",
              "            + ' to learn more about interactive tables.';\n",
              "          element.innerHTML = '';\n",
              "          dataTable['output_type'] = 'display_data';\n",
              "          await google.colab.output.renderOutput(dataTable, element);\n",
              "          const docLink = document.createElement('div');\n",
              "          docLink.innerHTML = docLinkHtml;\n",
              "          element.appendChild(docLink);\n",
              "        }\n",
              "      </script>\n",
              "    </div>\n",
              "  </div>\n",
              "  "
            ],
            "text/plain": [
              "          model  year  price transmission  ...  tax    mpg  engineSize    price_pred\n",
              "4984         X6  2019  52990    Semi-Auto  ...  145   34.9         3.0  45436.288019\n",
              "4880         X1  2018  24081    Semi-Auto  ...  150   60.1         2.0  21738.835257\n",
              "9132   1 Series  2016  12999    Automatic  ...  200   43.5         2.0  16205.326279\n",
              "6451   1 Series  2020  11995    Semi-Auto  ...  150   34.5         2.0  32088.707415\n",
              "7199   3 Series  2020  29875    Semi-Auto  ...  145   42.2         2.0  32088.707415\n",
              "...         ...   ...    ...          ...  ...  ...    ...         ...           ...\n",
              "9627   3 Series  2015  14999    Automatic  ...  160   52.3         3.0  19357.530409\n",
              "6096   4 Series  2019  29676    Automatic  ...  145   41.5         3.0  44808.449332\n",
              "1747   5 Series  2019  30570    Automatic  ...  145   49.6         2.0  28444.115709\n",
              "4023   3 Series  2016  14999    Automatic  ...    0  148.7         2.0  16205.326279\n",
              "4372   2 Series  2019  24590    Semi-Auto  ...  145   48.7         2.0  27824.786145\n",
              "\n",
              "[2157 rows x 10 columns]"
            ]
          },
          "metadata": {},
          "execution_count": 27
        }
      ]
    },
    {
      "cell_type": "code",
      "source": [
        "from sklearn.metrics import mean_absolute_error, mean_absolute_percentage_error"
      ],
      "metadata": {
        "id": "RPjbPXvIy3JD"
      },
      "execution_count": null,
      "outputs": []
    },
    {
      "cell_type": "code",
      "source": [
        "def error(y_true,y_pred):\n",
        "  print(mean_absolute_error(y_true,y_pred))\n",
        "  print(mean_absolute_percentage_error(y_true,y_pred))"
      ],
      "metadata": {
        "id": "-on6IXGWywMR"
      },
      "execution_count": null,
      "outputs": []
    },
    {
      "cell_type": "code",
      "source": [
        "error(test['price'],test['price_pred'])"
      ],
      "metadata": {
        "colab": {
          "base_uri": "https://localhost:8080/"
        },
        "id": "2BzcNjWfy7de",
        "outputId": "a00cdba5-dd42-4533-babc-3b77217aded4"
      },
      "execution_count": null,
      "outputs": [
        {
          "output_type": "stream",
          "name": "stdout",
          "text": [
            "3366.679482256595\n",
            "0.15363582890850797\n"
          ]
        }
      ]
    },
    {
      "cell_type": "markdown",
      "source": [
        "# Обучаемся на всех фичах"
      ],
      "metadata": {
        "id": "UrCbCIvey_tY"
      }
    },
    {
      "cell_type": "code",
      "source": [
        "X = ['model', 'year', 'transmission', 'mileage', 'fuelType', 'tax',\n",
        "       'mpg', 'engineSize']\n",
        "\n",
        "cat_features = ['model', 'transmission', 'fuelType']\n",
        "\n",
        "y = ['price']"
      ],
      "metadata": {
        "id": "x7ysdwOl3A07"
      },
      "execution_count": null,
      "outputs": []
    },
    {
      "cell_type": "code",
      "source": [
        "parameters = {'cat_features': cat_features,\n",
        "              'eval_metric': 'MAPE',\n",
        "              'random_seed':42,\n",
        "              'verbose':100}"
      ],
      "metadata": {
        "id": "4Uyy9EBs3RNi"
      },
      "execution_count": null,
      "outputs": []
    },
    {
      "cell_type": "code",
      "source": [
        "model = CatBoostRegressor(**parameters)"
      ],
      "metadata": {
        "id": "RiGfFWfK3Nt_"
      },
      "execution_count": null,
      "outputs": []
    },
    {
      "cell_type": "code",
      "source": [
        "model.fit(train[X],train[y],eval_set=(val[X],val[y]))"
      ],
      "metadata": {
        "colab": {
          "base_uri": "https://localhost:8080/"
        },
        "id": "pt8TfXk23kCM",
        "outputId": "5e4174d8-affa-46f7-9f31-2b0105daa80d"
      },
      "execution_count": null,
      "outputs": [
        {
          "output_type": "stream",
          "name": "stdout",
          "text": [
            "Learning rate set to 0.068263\n",
            "0:\tlearn: 0.4607438\ttest: 0.4563750\tbest: 0.4563750 (0)\ttotal: 12.5ms\tremaining: 12.5s\n",
            "100:\tlearn: 0.0904302\ttest: 0.0896388\tbest: 0.0896388 (100)\ttotal: 1.02s\tremaining: 9.06s\n",
            "200:\tlearn: 0.0781784\ttest: 0.0803125\tbest: 0.0803125 (200)\ttotal: 1.63s\tremaining: 6.47s\n",
            "300:\tlearn: 0.0729925\ttest: 0.0764506\tbest: 0.0764506 (300)\ttotal: 2.45s\tremaining: 5.69s\n",
            "400:\tlearn: 0.0695552\ttest: 0.0744676\tbest: 0.0744553 (399)\ttotal: 3.09s\tremaining: 4.61s\n",
            "500:\tlearn: 0.0670683\ttest: 0.0732827\tbest: 0.0732827 (500)\ttotal: 4.18s\tremaining: 4.16s\n",
            "600:\tlearn: 0.0652835\ttest: 0.0726170\tbest: 0.0726128 (597)\ttotal: 5.78s\tremaining: 3.83s\n",
            "700:\tlearn: 0.0636320\ttest: 0.0720622\tbest: 0.0720500 (695)\ttotal: 7.24s\tremaining: 3.09s\n",
            "800:\tlearn: 0.0623408\ttest: 0.0714586\tbest: 0.0714329 (794)\ttotal: 8.52s\tremaining: 2.12s\n",
            "900:\tlearn: 0.0611487\ttest: 0.0711564\tbest: 0.0711321 (898)\ttotal: 10.3s\tremaining: 1.13s\n",
            "999:\tlearn: 0.0601407\ttest: 0.0708439\tbest: 0.0708403 (998)\ttotal: 11.9s\tremaining: 0us\n",
            "\n",
            "bestTest = 0.07084025495\n",
            "bestIteration = 998\n",
            "\n",
            "Shrink model to first 999 iterations.\n"
          ]
        },
        {
          "output_type": "execute_result",
          "data": {
            "text/plain": [
              "<catboost.core.CatBoostRegressor at 0x7f400c84a890>"
            ]
          },
          "metadata": {},
          "execution_count": 34
        }
      ]
    },
    {
      "cell_type": "code",
      "source": [
        "test['price_pred_all'] = model.predict(test[X])"
      ],
      "metadata": {
        "id": "h3JloOf43ofs"
      },
      "execution_count": null,
      "outputs": []
    },
    {
      "cell_type": "code",
      "source": [
        "error(test['price'],test['price_pred_all'])"
      ],
      "metadata": {
        "colab": {
          "base_uri": "https://localhost:8080/"
        },
        "id": "hVJH_t-C382v",
        "outputId": "fb6aeeb7-9444-4ac1-cfb4-74fd47e10506"
      },
      "execution_count": null,
      "outputs": [
        {
          "output_type": "stream",
          "name": "stdout",
          "text": [
            "1556.5378327680894\n",
            "0.07367840910148211\n"
          ]
        }
      ]
    },
    {
      "cell_type": "markdown",
      "source": [
        "# Количество итераций и learning rate"
      ],
      "metadata": {
        "id": "i2aDWXEglZ2K"
      }
    },
    {
      "cell_type": "markdown",
      "source": [
        "## Уменьшим learning rate"
      ],
      "metadata": {
        "id": "EAMu4vuhuWbX"
      }
    },
    {
      "cell_type": "code",
      "source": [
        "X = ['year', 'transmission', 'engineSize']\n",
        "\n",
        "cat_features = ['transmission']\n",
        "\n",
        "y = ['price']"
      ],
      "metadata": {
        "id": "4SKQWGJKtEqo"
      },
      "execution_count": null,
      "outputs": []
    },
    {
      "cell_type": "code",
      "source": [
        "model = CatBoostRegressor(cat_features=cat_features,\n",
        "                          learning_rate = 0.03,\n",
        "                          eval_metric='MAPE',\n",
        "                          random_seed=42,\n",
        "                          verbose=100)"
      ],
      "metadata": {
        "id": "7d-5xEIvtEqo"
      },
      "execution_count": null,
      "outputs": []
    },
    {
      "cell_type": "code",
      "source": [
        "model.fit(train[X],train[y],eval_set=(val[X],val[y]))"
      ],
      "metadata": {
        "colab": {
          "base_uri": "https://localhost:8080/"
        },
        "outputId": "5a35831f-ef40-4be1-c31b-9ddb4f5312e6",
        "id": "3_FnOpTetEqo"
      },
      "execution_count": null,
      "outputs": [
        {
          "output_type": "stream",
          "name": "stdout",
          "text": [
            "0:\tlearn: 0.4746987\ttest: 0.4699730\tbest: 0.4699730 (0)\ttotal: 20.8ms\tremaining: 20.8s\n",
            "100:\tlearn: 0.1681230\ttest: 0.1638970\tbest: 0.1638970 (100)\ttotal: 753ms\tremaining: 6.7s\n",
            "200:\tlearn: 0.1561398\ttest: 0.1538311\tbest: 0.1538311 (200)\ttotal: 1.44s\tremaining: 5.73s\n",
            "300:\tlearn: 0.1543096\ttest: 0.1525317\tbest: 0.1525309 (299)\ttotal: 2.2s\tremaining: 5.11s\n",
            "400:\tlearn: 0.1534465\ttest: 0.1519221\tbest: 0.1519198 (397)\ttotal: 2.74s\tremaining: 4.1s\n",
            "500:\tlearn: 0.1527824\ttest: 0.1516330\tbest: 0.1516164 (480)\ttotal: 3.56s\tremaining: 3.55s\n",
            "600:\tlearn: 0.1522590\ttest: 0.1514284\tbest: 0.1514284 (600)\ttotal: 4.33s\tremaining: 2.87s\n",
            "700:\tlearn: 0.1518052\ttest: 0.1513704\tbest: 0.1513673 (689)\ttotal: 5.24s\tremaining: 2.23s\n",
            "800:\tlearn: 0.1514495\ttest: 0.1513967\tbest: 0.1513651 (703)\ttotal: 5.99s\tremaining: 1.49s\n",
            "900:\tlearn: 0.1510958\ttest: 0.1513657\tbest: 0.1513489 (873)\ttotal: 6.9s\tremaining: 758ms\n",
            "999:\tlearn: 0.1508297\ttest: 0.1513297\tbest: 0.1513168 (992)\ttotal: 7.59s\tremaining: 0us\n",
            "\n",
            "bestTest = 0.1513167711\n",
            "bestIteration = 992\n",
            "\n",
            "Shrink model to first 993 iterations.\n"
          ]
        },
        {
          "output_type": "execute_result",
          "data": {
            "text/plain": [
              "<catboost.core.CatBoostRegressor at 0x7f400c828a10>"
            ]
          },
          "metadata": {},
          "execution_count": 39
        }
      ]
    },
    {
      "cell_type": "markdown",
      "source": [
        "## Увеличим learning rate"
      ],
      "metadata": {
        "id": "LIJalFUBtKyC"
      }
    },
    {
      "cell_type": "code",
      "source": [
        "X = ['model', 'year', 'transmission', 'mileage', 'fuelType', 'tax',\n",
        "       'mpg', 'engineSize']\n",
        "\n",
        "cat_features = ['model', 'transmission', 'fuelType']\n",
        "\n",
        "y = ['price']"
      ],
      "metadata": {
        "id": "V9Po9tOMtghh"
      },
      "execution_count": null,
      "outputs": []
    },
    {
      "cell_type": "code",
      "source": [
        "parameters = {'cat_features': cat_features,\n",
        "              'eval_metric': 'MAPE',\n",
        "              'learning_rate': 0.08,\n",
        "              'random_seed':42,\n",
        "              'verbose':100}"
      ],
      "metadata": {
        "id": "qXuRWTOytghi"
      },
      "execution_count": null,
      "outputs": []
    },
    {
      "cell_type": "code",
      "source": [
        "model = CatBoostRegressor(**parameters)"
      ],
      "metadata": {
        "id": "zYsPugnJtghi"
      },
      "execution_count": null,
      "outputs": []
    },
    {
      "cell_type": "code",
      "source": [
        "model.fit(train[X],train[y],eval_set=(val[X],val[y]))"
      ],
      "metadata": {
        "colab": {
          "base_uri": "https://localhost:8080/"
        },
        "outputId": "c5997279-3659-4ec3-875a-51805e3041ae",
        "id": "ZR3nlVDitghi"
      },
      "execution_count": null,
      "outputs": [
        {
          "output_type": "stream",
          "name": "stdout",
          "text": [
            "0:\tlearn: 0.4564416\ttest: 0.4521294\tbest: 0.4521294 (0)\ttotal: 11.1ms\tremaining: 11.1s\n",
            "100:\tlearn: 0.0875290\ttest: 0.0867329\tbest: 0.0867329 (100)\ttotal: 1.77s\tremaining: 15.7s\n",
            "200:\tlearn: 0.0760834\ttest: 0.0779235\tbest: 0.0779235 (200)\ttotal: 3.3s\tremaining: 13.1s\n",
            "300:\tlearn: 0.0708670\ttest: 0.0740290\tbest: 0.0740290 (300)\ttotal: 4.83s\tremaining: 11.2s\n",
            "400:\tlearn: 0.0676240\ttest: 0.0718814\tbest: 0.0718814 (400)\ttotal: 6.2s\tremaining: 9.26s\n",
            "500:\tlearn: 0.0654070\ttest: 0.0709221\tbest: 0.0708594 (496)\ttotal: 6.83s\tremaining: 6.8s\n",
            "600:\tlearn: 0.0638577\ttest: 0.0704606\tbest: 0.0704490 (599)\ttotal: 7.45s\tremaining: 4.95s\n",
            "700:\tlearn: 0.0622969\ttest: 0.0698226\tbest: 0.0698226 (700)\ttotal: 8.1s\tremaining: 3.46s\n",
            "800:\tlearn: 0.0609583\ttest: 0.0694169\tbest: 0.0694004 (791)\ttotal: 8.74s\tremaining: 2.17s\n",
            "900:\tlearn: 0.0596089\ttest: 0.0689968\tbest: 0.0689945 (895)\ttotal: 9.36s\tremaining: 1.03s\n",
            "999:\tlearn: 0.0584626\ttest: 0.0686829\tbest: 0.0686377 (993)\ttotal: 10s\tremaining: 0us\n",
            "\n",
            "bestTest = 0.06863774536\n",
            "bestIteration = 993\n",
            "\n",
            "Shrink model to first 994 iterations.\n"
          ]
        },
        {
          "output_type": "execute_result",
          "data": {
            "text/plain": [
              "<catboost.core.CatBoostRegressor at 0x7f400c828d50>"
            ]
          },
          "metadata": {},
          "execution_count": 43
        }
      ]
    },
    {
      "cell_type": "markdown",
      "source": [
        "## Останавливаем если нет улучшения"
      ],
      "metadata": {
        "id": "gMkVBDuStm58"
      }
    },
    {
      "cell_type": "code",
      "source": [
        "X = ['year', 'transmission', 'engineSize']\n",
        "\n",
        "cat_features = ['transmission']\n",
        "\n",
        "y = ['price']"
      ],
      "metadata": {
        "id": "he_tpD5wuAMH"
      },
      "execution_count": null,
      "outputs": []
    },
    {
      "cell_type": "code",
      "source": [
        "model = CatBoostRegressor(cat_features=cat_features,\n",
        "                          early_stopping_rounds=200,\n",
        "                          eval_metric='MAPE',\n",
        "                          random_seed=42,\n",
        "                          verbose=100)"
      ],
      "metadata": {
        "id": "831Aup5TuAMH"
      },
      "execution_count": null,
      "outputs": []
    },
    {
      "cell_type": "code",
      "source": [
        "model.fit(train[X],train[y],eval_set=(val[X],val[y]))"
      ],
      "metadata": {
        "colab": {
          "base_uri": "https://localhost:8080/"
        },
        "outputId": "f7196802-b39c-4d50-c5bc-58958f8123d9",
        "id": "_asoT3nQuAMH"
      },
      "execution_count": null,
      "outputs": [
        {
          "output_type": "stream",
          "name": "stdout",
          "text": [
            "Learning rate set to 0.068263\n",
            "0:\tlearn: 0.4603375\ttest: 0.4555509\tbest: 0.4555509 (0)\ttotal: 4.26ms\tremaining: 4.25s\n",
            "100:\tlearn: 0.1546393\ttest: 0.1529687\tbest: 0.1529687 (100)\ttotal: 299ms\tremaining: 2.66s\n",
            "200:\tlearn: 0.1528213\ttest: 0.1517332\tbest: 0.1517332 (200)\ttotal: 543ms\tremaining: 2.16s\n",
            "300:\tlearn: 0.1517532\ttest: 0.1514386\tbest: 0.1514000 (288)\ttotal: 821ms\tremaining: 1.91s\n",
            "400:\tlearn: 0.1509722\ttest: 0.1515508\tbest: 0.1514000 (288)\ttotal: 1.11s\tremaining: 1.65s\n",
            "Stopped by overfitting detector  (200 iterations wait)\n",
            "\n",
            "bestTest = 0.1514000297\n",
            "bestIteration = 288\n",
            "\n",
            "Shrink model to first 289 iterations.\n"
          ]
        },
        {
          "output_type": "execute_result",
          "data": {
            "text/plain": [
              "<catboost.core.CatBoostRegressor at 0x7f400c828550>"
            ]
          },
          "metadata": {},
          "execution_count": 46
        }
      ]
    },
    {
      "cell_type": "markdown",
      "source": [
        "# Обучаемся на всех данных"
      ],
      "metadata": {
        "id": "M_D1PRRtupGR"
      }
    },
    {
      "cell_type": "code",
      "source": [
        "len(train)"
      ],
      "metadata": {
        "colab": {
          "base_uri": "https://localhost:8080/"
        },
        "id": "hQtkZPsFQPVV",
        "outputId": "00a043dc-1c77-4145-e912-ce7110d19efd"
      },
      "execution_count": null,
      "outputs": [
        {
          "output_type": "execute_result",
          "data": {
            "text/plain": [
              "6468"
            ]
          },
          "metadata": {},
          "execution_count": 47
        }
      ]
    },
    {
      "cell_type": "code",
      "source": [
        "len(val)"
      ],
      "metadata": {
        "colab": {
          "base_uri": "https://localhost:8080/"
        },
        "id": "FzXda_VSQsch",
        "outputId": "cc19ab66-feaa-4f26-ff61-45113db16510"
      },
      "execution_count": null,
      "outputs": [
        {
          "output_type": "execute_result",
          "data": {
            "text/plain": [
              "2156"
            ]
          },
          "metadata": {},
          "execution_count": 48
        }
      ]
    },
    {
      "cell_type": "code",
      "source": [
        "len(train) + len(val)"
      ],
      "metadata": {
        "colab": {
          "base_uri": "https://localhost:8080/"
        },
        "id": "x-6kxuOqQsy4",
        "outputId": "49e4bb5f-65c3-49a5-f436-c10d76164212"
      },
      "execution_count": null,
      "outputs": [
        {
          "output_type": "execute_result",
          "data": {
            "text/plain": [
              "8624"
            ]
          },
          "metadata": {},
          "execution_count": 49
        }
      ]
    },
    {
      "cell_type": "code",
      "source": [
        "train_full = pd.concat([train,val])"
      ],
      "metadata": {
        "id": "KOGiEkCtQvyF"
      },
      "execution_count": null,
      "outputs": []
    },
    {
      "cell_type": "code",
      "source": [
        "X = ['model', 'year', 'transmission', 'mileage', 'fuelType', 'tax',\n",
        "       'mpg', 'engineSize']\n",
        "\n",
        "cat_features = ['model', 'transmission', 'fuelType']\n",
        "\n",
        "y = ['price']"
      ],
      "metadata": {
        "id": "Y5H-bjOFQ_Tf"
      },
      "execution_count": null,
      "outputs": []
    },
    {
      "cell_type": "code",
      "source": [
        "parameters = {'cat_features': cat_features,\n",
        "              'eval_metric': 'MAPE',\n",
        "              'learning_rate': 0.08,\n",
        "              'random_seed':42,\n",
        "              'verbose':100}"
      ],
      "metadata": {
        "id": "UlmK5522Q_Tf"
      },
      "execution_count": null,
      "outputs": []
    },
    {
      "cell_type": "code",
      "source": [
        "model = CatBoostRegressor(**parameters)"
      ],
      "metadata": {
        "id": "4XyaBfOCQ_Tf"
      },
      "execution_count": null,
      "outputs": []
    },
    {
      "cell_type": "code",
      "source": [
        "model.fit(train[X],train[y],eval_set=(val[X],val[y]))"
      ],
      "metadata": {
        "colab": {
          "base_uri": "https://localhost:8080/"
        },
        "outputId": "fd9fb6fa-447c-4c4c-b861-72797b35cc92",
        "id": "3fOJFUG3Q_Tg"
      },
      "execution_count": null,
      "outputs": [
        {
          "output_type": "stream",
          "name": "stdout",
          "text": [
            "0:\tlearn: 0.4564416\ttest: 0.4521294\tbest: 0.4521294 (0)\ttotal: 8.51ms\tremaining: 8.5s\n",
            "100:\tlearn: 0.0875290\ttest: 0.0867329\tbest: 0.0867329 (100)\ttotal: 642ms\tremaining: 5.71s\n",
            "200:\tlearn: 0.0760834\ttest: 0.0779235\tbest: 0.0779235 (200)\ttotal: 1.24s\tremaining: 4.94s\n",
            "300:\tlearn: 0.0708670\ttest: 0.0740290\tbest: 0.0740290 (300)\ttotal: 1.86s\tremaining: 4.31s\n",
            "400:\tlearn: 0.0676240\ttest: 0.0718814\tbest: 0.0718814 (400)\ttotal: 2.51s\tremaining: 3.75s\n",
            "500:\tlearn: 0.0654070\ttest: 0.0709221\tbest: 0.0708594 (496)\ttotal: 3.16s\tremaining: 3.15s\n",
            "600:\tlearn: 0.0638577\ttest: 0.0704606\tbest: 0.0704490 (599)\ttotal: 3.78s\tremaining: 2.51s\n",
            "700:\tlearn: 0.0622969\ttest: 0.0698226\tbest: 0.0698226 (700)\ttotal: 4.42s\tremaining: 1.88s\n",
            "800:\tlearn: 0.0609583\ttest: 0.0694169\tbest: 0.0694004 (791)\ttotal: 5.05s\tremaining: 1.25s\n",
            "900:\tlearn: 0.0596089\ttest: 0.0689968\tbest: 0.0689945 (895)\ttotal: 5.68s\tremaining: 625ms\n",
            "999:\tlearn: 0.0584626\ttest: 0.0686829\tbest: 0.0686377 (993)\ttotal: 6.35s\tremaining: 0us\n",
            "\n",
            "bestTest = 0.06863774536\n",
            "bestIteration = 993\n",
            "\n",
            "Shrink model to first 994 iterations.\n"
          ]
        },
        {
          "output_type": "execute_result",
          "data": {
            "text/plain": [
              "<catboost.core.CatBoostRegressor at 0x7f400bfec490>"
            ]
          },
          "metadata": {},
          "execution_count": 54
        }
      ]
    },
    {
      "cell_type": "code",
      "source": [
        "model.best_iteration_"
      ],
      "metadata": {
        "colab": {
          "base_uri": "https://localhost:8080/"
        },
        "id": "7z9G-LdiRBEh",
        "outputId": "0f67fc24-7828-4cd0-d7cd-545c7ae8408b"
      },
      "execution_count": null,
      "outputs": [
        {
          "output_type": "execute_result",
          "data": {
            "text/plain": [
              "993"
            ]
          },
          "metadata": {},
          "execution_count": 55
        }
      ]
    },
    {
      "cell_type": "code",
      "source": [
        "parameters = {'iterations': model.best_iteration_ + 1,\n",
        "              'cat_features': cat_features,\n",
        "              'eval_metric': 'MAPE',\n",
        "              'learning_rate': 0.08,\n",
        "              'random_seed':42,\n",
        "              'verbose':100}"
      ],
      "metadata": {
        "id": "N9ZLT7gvRK_x"
      },
      "execution_count": null,
      "outputs": []
    },
    {
      "cell_type": "code",
      "source": [
        "parameters"
      ],
      "metadata": {
        "colab": {
          "base_uri": "https://localhost:8080/"
        },
        "id": "hwNLjuMXRSAB",
        "outputId": "7615a2bd-4f0e-4699-e880-5ce59efafcf1"
      },
      "execution_count": null,
      "outputs": [
        {
          "output_type": "execute_result",
          "data": {
            "text/plain": [
              "{'cat_features': ['model', 'transmission', 'fuelType'],\n",
              " 'eval_metric': 'MAPE',\n",
              " 'iterations': 994,\n",
              " 'learning_rate': 0.08,\n",
              " 'random_seed': 42,\n",
              " 'verbose': 100}"
            ]
          },
          "metadata": {},
          "execution_count": 57
        }
      ]
    },
    {
      "cell_type": "code",
      "source": [
        "model = CatBoostRegressor(**parameters)"
      ],
      "metadata": {
        "id": "nzJLO0PpRK_x"
      },
      "execution_count": null,
      "outputs": []
    },
    {
      "cell_type": "code",
      "source": [
        "model.fit(train_full[X],train_full[y])"
      ],
      "metadata": {
        "colab": {
          "base_uri": "https://localhost:8080/"
        },
        "id": "aQ7jZQjvRVxX",
        "outputId": "0b137d69-f32f-46ac-cfd4-ca03ee4c5ad8"
      },
      "execution_count": null,
      "outputs": [
        {
          "output_type": "stream",
          "name": "stdout",
          "text": [
            "0:\tlearn: 0.4538016\ttotal: 8.8ms\tremaining: 8.73s\n",
            "100:\tlearn: 0.0854178\ttotal: 712ms\tremaining: 6.29s\n",
            "200:\tlearn: 0.0745022\ttotal: 1.44s\tremaining: 5.68s\n",
            "300:\tlearn: 0.0701717\ttotal: 2.16s\tremaining: 4.98s\n",
            "400:\tlearn: 0.0676577\ttotal: 2.86s\tremaining: 4.23s\n",
            "500:\tlearn: 0.0656926\ttotal: 3.54s\tremaining: 3.48s\n",
            "600:\tlearn: 0.0638104\ttotal: 4.25s\tremaining: 2.78s\n",
            "700:\tlearn: 0.0624302\ttotal: 4.97s\tremaining: 2.08s\n",
            "800:\tlearn: 0.0612275\ttotal: 5.69s\tremaining: 1.37s\n",
            "900:\tlearn: 0.0599823\ttotal: 6.42s\tremaining: 663ms\n",
            "993:\tlearn: 0.0590330\ttotal: 7.1s\tremaining: 0us\n"
          ]
        },
        {
          "output_type": "execute_result",
          "data": {
            "text/plain": [
              "<catboost.core.CatBoostRegressor at 0x7f400c828c10>"
            ]
          },
          "metadata": {},
          "execution_count": 59
        }
      ]
    },
    {
      "cell_type": "code",
      "source": [
        "test['price_pred_all_features_and_data'] = model.predict(test[X])"
      ],
      "metadata": {
        "id": "2SjpaZPaRdNI"
      },
      "execution_count": null,
      "outputs": []
    },
    {
      "cell_type": "code",
      "source": [
        "error(test['price'],test['price_pred_all'])"
      ],
      "metadata": {
        "colab": {
          "base_uri": "https://localhost:8080/"
        },
        "id": "kJse0HcYRljk",
        "outputId": "4ffef947-5471-4ecc-a44c-9db374c4defd"
      },
      "execution_count": null,
      "outputs": [
        {
          "output_type": "stream",
          "name": "stdout",
          "text": [
            "1556.5378327680894\n",
            "0.07367840910148211\n"
          ]
        }
      ]
    },
    {
      "cell_type": "code",
      "source": [
        "error(test['price'],test['price_pred_all_features_and_data'])"
      ],
      "metadata": {
        "colab": {
          "base_uri": "https://localhost:8080/"
        },
        "id": "bgtEpTC9Rwbc",
        "outputId": "fce8f61b-7ada-4bbb-c18d-9732f6c35575"
      },
      "execution_count": null,
      "outputs": [
        {
          "output_type": "stream",
          "name": "stdout",
          "text": [
            "1512.6160783572977\n",
            "0.07305203023986592\n"
          ]
        }
      ]
    },
    {
      "cell_type": "markdown",
      "source": [
        "# Метрики регрессии"
      ],
      "metadata": {
        "id": "i4Y-CkASRx7S"
      }
    },
    {
      "cell_type": "markdown",
      "source": [
        "https://catboost.ai/en/docs/concepts/loss-functions-regression#objectives-and-metrics"
      ],
      "metadata": {
        "id": "0THocIr7SLKg"
      }
    },
    {
      "cell_type": "markdown",
      "source": [
        "# Меняем функцию оптимизации"
      ],
      "metadata": {
        "id": "mNf6WhgcSN6O"
      }
    },
    {
      "cell_type": "code",
      "source": [
        "X = ['model', 'year', 'transmission', 'mileage', 'fuelType', 'tax',\n",
        "       'mpg', 'engineSize']\n",
        "\n",
        "cat_features = ['model', 'transmission', 'fuelType']\n",
        "\n",
        "y = ['price']"
      ],
      "metadata": {
        "id": "s3tZ5GviWQH_"
      },
      "execution_count": null,
      "outputs": []
    },
    {
      "cell_type": "code",
      "source": [
        "parameters = {'cat_features': cat_features,\n",
        "              'loss_function': 'MAE',\n",
        "              'eval_metric': 'MAPE',\n",
        "              'learning_rate': 0.1,\n",
        "              'random_seed':42,\n",
        "              'verbose':100}"
      ],
      "metadata": {
        "id": "6WD60lGnWQIL"
      },
      "execution_count": null,
      "outputs": []
    },
    {
      "cell_type": "code",
      "source": [
        "model = CatBoostRegressor(**parameters)"
      ],
      "metadata": {
        "id": "4X17fibcWQIL"
      },
      "execution_count": null,
      "outputs": []
    },
    {
      "cell_type": "code",
      "source": [
        "model.fit(train[X],train[y],eval_set=(val[X],val[y]))"
      ],
      "metadata": {
        "colab": {
          "base_uri": "https://localhost:8080/"
        },
        "outputId": "36429b24-389e-436f-fd8c-dd20f516dc95",
        "id": "SqkO5H0rWQIM"
      },
      "execution_count": null,
      "outputs": [
        {
          "output_type": "stream",
          "name": "stdout",
          "text": [
            "0:\tlearn: 0.3849345\ttest: 0.3793341\tbest: 0.3793341 (0)\ttotal: 21.6ms\tremaining: 21.6s\n",
            "100:\tlearn: 0.0764009\ttest: 0.0774578\tbest: 0.0774578 (100)\ttotal: 1.83s\tremaining: 16.3s\n",
            "200:\tlearn: 0.0666216\ttest: 0.0706498\tbest: 0.0706498 (200)\ttotal: 3.18s\tremaining: 12.7s\n",
            "300:\tlearn: 0.0628577\ttest: 0.0695086\tbest: 0.0694924 (298)\ttotal: 4.3s\tremaining: 10s\n",
            "400:\tlearn: 0.0605748\ttest: 0.0687890\tbest: 0.0687826 (399)\ttotal: 4.99s\tremaining: 7.45s\n",
            "500:\tlearn: 0.0589764\ttest: 0.0683467\tbest: 0.0683222 (490)\ttotal: 5.68s\tremaining: 5.65s\n",
            "600:\tlearn: 0.0579201\ttest: 0.0680567\tbest: 0.0680567 (600)\ttotal: 6.36s\tremaining: 4.22s\n",
            "700:\tlearn: 0.0570454\ttest: 0.0678671\tbest: 0.0678659 (681)\ttotal: 7.03s\tremaining: 3s\n",
            "800:\tlearn: 0.0563072\ttest: 0.0676018\tbest: 0.0676018 (800)\ttotal: 7.7s\tremaining: 1.91s\n",
            "900:\tlearn: 0.0555798\ttest: 0.0674500\tbest: 0.0674384 (889)\ttotal: 8.36s\tremaining: 919ms\n",
            "999:\tlearn: 0.0548863\ttest: 0.0673326\tbest: 0.0672972 (972)\ttotal: 9.03s\tremaining: 0us\n",
            "\n",
            "bestTest = 0.0672972276\n",
            "bestIteration = 972\n",
            "\n",
            "Shrink model to first 973 iterations.\n"
          ]
        },
        {
          "output_type": "execute_result",
          "data": {
            "text/plain": [
              "<catboost.core.CatBoostRegressor at 0x7f400bf763d0>"
            ]
          },
          "metadata": {},
          "execution_count": 114
        }
      ]
    },
    {
      "cell_type": "markdown",
      "source": [
        "Мой Telegram-канал: https://t.me/mikhaylovgleb"
      ],
      "metadata": {
        "id": "pRJMypKVWJlx"
      }
    }
  ]
}